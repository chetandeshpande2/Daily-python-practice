{
 "cells": [
  {
   "cell_type": "markdown",
   "id": "788d3c52",
   "metadata": {},
   "source": [
    "# Q5. Multiple Linear Regression"
   ]
  },
  {
   "cell_type": "code",
   "execution_count": 1,
   "id": "1bd27e89",
   "metadata": {},
   "outputs": [],
   "source": [
    "import pandas as pd\n",
    "import numpy as np\n",
    "import seaborn as sns\n",
    "import matplotlib.pyplot as plt\n",
    "from sklearn.model_selection import train_test_split\n",
    "from sklearn.linear_model import LinearRegression\n",
    "from sklearn import metrics\n",
    "import statsmodels.api as sm"
   ]
  },
  {
   "cell_type": "code",
   "execution_count": 2,
   "id": "3393380e",
   "metadata": {},
   "outputs": [],
   "source": [
    "df = pd.read_excel(\"~chetandeshpande/downloads/MLR_data.xlsx\")"
   ]
  },
  {
   "cell_type": "code",
   "execution_count": 3,
   "id": "8164350c",
   "metadata": {},
   "outputs": [
    {
     "data": {
      "text/html": [
       "<div>\n",
       "<style scoped>\n",
       "    .dataframe tbody tr th:only-of-type {\n",
       "        vertical-align: middle;\n",
       "    }\n",
       "\n",
       "    .dataframe tbody tr th {\n",
       "        vertical-align: top;\n",
       "    }\n",
       "\n",
       "    .dataframe thead th {\n",
       "        text-align: right;\n",
       "    }\n",
       "</style>\n",
       "<table border=\"1\" class=\"dataframe\">\n",
       "  <thead>\n",
       "    <tr style=\"text-align: right;\">\n",
       "      <th></th>\n",
       "      <th>X1</th>\n",
       "      <th>X2</th>\n",
       "      <th>Y</th>\n",
       "    </tr>\n",
       "  </thead>\n",
       "  <tbody>\n",
       "    <tr>\n",
       "      <th>0</th>\n",
       "      <td>15.31</td>\n",
       "      <td>57.3</td>\n",
       "      <td>74.8</td>\n",
       "    </tr>\n",
       "    <tr>\n",
       "      <th>1</th>\n",
       "      <td>15.20</td>\n",
       "      <td>63.8</td>\n",
       "      <td>74.0</td>\n",
       "    </tr>\n",
       "    <tr>\n",
       "      <th>2</th>\n",
       "      <td>16.25</td>\n",
       "      <td>65.4</td>\n",
       "      <td>72.9</td>\n",
       "    </tr>\n",
       "    <tr>\n",
       "      <th>3</th>\n",
       "      <td>14.33</td>\n",
       "      <td>57.0</td>\n",
       "      <td>70.0</td>\n",
       "    </tr>\n",
       "    <tr>\n",
       "      <th>4</th>\n",
       "      <td>14.57</td>\n",
       "      <td>63.8</td>\n",
       "      <td>74.9</td>\n",
       "    </tr>\n",
       "  </tbody>\n",
       "</table>\n",
       "</div>"
      ],
      "text/plain": [
       "      X1    X2     Y\n",
       "0  15.31  57.3  74.8\n",
       "1  15.20  63.8  74.0\n",
       "2  16.25  65.4  72.9\n",
       "3  14.33  57.0  70.0\n",
       "4  14.57  63.8  74.9"
      ]
     },
     "execution_count": 3,
     "metadata": {},
     "output_type": "execute_result"
    }
   ],
   "source": [
    "df.head()"
   ]
  },
  {
   "cell_type": "code",
   "execution_count": 4,
   "id": "6a30d1eb",
   "metadata": {},
   "outputs": [
    {
     "name": "stdout",
     "output_type": "stream",
     "text": [
      "<class 'pandas.core.frame.DataFrame'>\n",
      "RangeIndex: 20 entries, 0 to 19\n",
      "Data columns (total 3 columns):\n",
      " #   Column  Non-Null Count  Dtype  \n",
      "---  ------  --------------  -----  \n",
      " 0   X1      20 non-null     float64\n",
      " 1   X2      20 non-null     float64\n",
      " 2   Y       20 non-null     float64\n",
      "dtypes: float64(3)\n",
      "memory usage: 608.0 bytes\n"
     ]
    }
   ],
   "source": [
    "df.info()"
   ]
  },
  {
   "cell_type": "code",
   "execution_count": 5,
   "id": "f8f0b15f",
   "metadata": {},
   "outputs": [],
   "source": [
    "X = df[['X1','X2']]\n",
    "y = df['Y']"
   ]
  },
  {
   "cell_type": "code",
   "execution_count": 6,
   "id": "685a6479",
   "metadata": {},
   "outputs": [],
   "source": [
    "X = sm.add_constant(X)"
   ]
  },
  {
   "cell_type": "code",
   "execution_count": 7,
   "id": "aa3cac74",
   "metadata": {},
   "outputs": [],
   "source": [
    "model = sm.OLS(y, X).fit()"
   ]
  },
  {
   "cell_type": "code",
   "execution_count": 8,
   "id": "5c60163a",
   "metadata": {},
   "outputs": [
    {
     "name": "stdout",
     "output_type": "stream",
     "text": [
      "                            OLS Regression Results                            \n",
      "==============================================================================\n",
      "Dep. Variable:                      Y   R-squared:                       0.847\n",
      "Model:                            OLS   Adj. R-squared:                  0.829\n",
      "Method:                 Least Squares   F-statistic:                     46.99\n",
      "Date:                Wed, 10 Sep 2025   Prob (F-statistic):           1.19e-07\n",
      "Time:                        11:47:58   Log-Likelihood:                -50.526\n",
      "No. Observations:                  20   AIC:                             107.1\n",
      "Df Residuals:                      17   BIC:                             110.0\n",
      "Df Model:                           2                                         \n",
      "Covariance Type:            nonrobust                                         \n",
      "==============================================================================\n",
      "                 coef    std err          t      P>|t|      [0.025      0.975]\n",
      "------------------------------------------------------------------------------\n",
      "const         33.1094      7.253      4.565      0.000      17.808      48.411\n",
      "X1             2.8079      0.642      4.373      0.000       1.453       4.162\n",
      "X2            -0.0351      0.238     -0.148      0.884      -0.536       0.466\n",
      "==============================================================================\n",
      "Omnibus:                        0.002   Durbin-Watson:                   2.449\n",
      "Prob(Omnibus):                  0.999   Jarque-Bera (JB):                0.143\n",
      "Skew:                          -0.009   Prob(JB):                        0.931\n",
      "Kurtosis:                       2.587   Cond. No.                         647.\n",
      "==============================================================================\n",
      "\n",
      "Notes:\n",
      "[1] Standard Errors assume that the covariance matrix of the errors is correctly specified.\n"
     ]
    }
   ],
   "source": [
    "print(model.summary())"
   ]
  },
  {
   "cell_type": "code",
   "execution_count": 9,
   "id": "a7372673",
   "metadata": {},
   "outputs": [],
   "source": [
    "# R-Squared = 0.847"
   ]
  },
  {
   "cell_type": "code",
   "execution_count": 10,
   "id": "bf5771d9",
   "metadata": {},
   "outputs": [
    {
     "name": "stdout",
     "output_type": "stream",
     "text": [
      "RMSE: 3.026422801154147\n"
     ]
    }
   ],
   "source": [
    "from sklearn.metrics import mean_squared_error\n",
    "\n",
    "y_pred = model.predict(X) \n",
    "rmse = np.sqrt(mean_squared_error(y, y_pred))  \n",
    "print(\"RMSE:\", rmse)"
   ]
  },
  {
   "cell_type": "code",
   "execution_count": 11,
   "id": "3df35bc7",
   "metadata": {},
   "outputs": [],
   "source": [
    "# RMSE = 3.0264"
   ]
  },
  {
   "cell_type": "code",
   "execution_count": 12,
   "id": "50e386d1",
   "metadata": {},
   "outputs": [],
   "source": [
    "# The F-statistic and test statistical significance at α = 0.05"
   ]
  },
  {
   "cell_type": "code",
   "execution_count": 13,
   "id": "f16ece7c",
   "metadata": {},
   "outputs": [
    {
     "name": "stdout",
     "output_type": "stream",
     "text": [
      "F-statistic: 46.98986914191224\n",
      "p-value for F-statistic: 1.1864362651573306e-07\n",
      "Reject H0: Model is statistically significant at α = 0.05\n"
     ]
    }
   ],
   "source": [
    "f_stat = model.fvalue\n",
    "f_pval = model.f_pvalue\n",
    "\n",
    "# Print the results\n",
    "print(\"F-statistic:\", f_stat)\n",
    "print(\"p-value for F-statistic:\", f_pval)\n",
    "\n",
    "# Test significance at α = 0.05\n",
    "alpha = 0.05\n",
    "if f_pval < alpha:\n",
    "    print(\"Reject H0: Model is statistically significant at α = 0.05\")\n",
    "else:\n",
    "    print(\"Fail to reject H0: Model is not statistically significant\")"
   ]
  },
  {
   "cell_type": "code",
   "execution_count": 14,
   "id": "14fab1f6",
   "metadata": {},
   "outputs": [],
   "source": [
    "# p-value=0.0000001186≪0.05, model is statistically significant at α = 0.05"
   ]
  },
  {
   "cell_type": "markdown",
   "id": "f503c68b",
   "metadata": {},
   "source": [
    "# Q7. Discriminant Analysis"
   ]
  },
  {
   "cell_type": "code",
   "execution_count": 15,
   "id": "d2a40908",
   "metadata": {},
   "outputs": [],
   "source": [
    "from sklearn.discriminant_analysis import LinearDiscriminantAnalysis\n",
    "from sklearn.model_selection import train_test_split\n",
    "from sklearn.metrics import classification_report, confusion_matrix, accuracy_score"
   ]
  },
  {
   "cell_type": "code",
   "execution_count": 16,
   "id": "9e1ba3f9",
   "metadata": {},
   "outputs": [],
   "source": [
    "data = pd.read_csv(\"~chetandeshpande/downloads/Discriminant_Analysis_Data_Q7.csv\")"
   ]
  },
  {
   "cell_type": "code",
   "execution_count": 17,
   "id": "61653c53",
   "metadata": {},
   "outputs": [
    {
     "data": {
      "text/html": [
       "<div>\n",
       "<style scoped>\n",
       "    .dataframe tbody tr th:only-of-type {\n",
       "        vertical-align: middle;\n",
       "    }\n",
       "\n",
       "    .dataframe tbody tr th {\n",
       "        vertical-align: top;\n",
       "    }\n",
       "\n",
       "    .dataframe thead th {\n",
       "        text-align: right;\n",
       "    }\n",
       "</style>\n",
       "<table border=\"1\" class=\"dataframe\">\n",
       "  <thead>\n",
       "    <tr style=\"text-align: right;\">\n",
       "      <th></th>\n",
       "      <th>Group</th>\n",
       "      <th>GRE</th>\n",
       "      <th>GMAT</th>\n",
       "    </tr>\n",
       "  </thead>\n",
       "  <tbody>\n",
       "    <tr>\n",
       "      <th>0</th>\n",
       "      <td>1</td>\n",
       "      <td>2.96</td>\n",
       "      <td>596</td>\n",
       "    </tr>\n",
       "    <tr>\n",
       "      <th>1</th>\n",
       "      <td>1</td>\n",
       "      <td>3.14</td>\n",
       "      <td>473</td>\n",
       "    </tr>\n",
       "    <tr>\n",
       "      <th>2</th>\n",
       "      <td>1</td>\n",
       "      <td>3.22</td>\n",
       "      <td>482</td>\n",
       "    </tr>\n",
       "    <tr>\n",
       "      <th>3</th>\n",
       "      <td>1</td>\n",
       "      <td>3.29</td>\n",
       "      <td>527</td>\n",
       "    </tr>\n",
       "    <tr>\n",
       "      <th>4</th>\n",
       "      <td>1</td>\n",
       "      <td>3.69</td>\n",
       "      <td>505</td>\n",
       "    </tr>\n",
       "  </tbody>\n",
       "</table>\n",
       "</div>"
      ],
      "text/plain": [
       "   Group   GRE  GMAT\n",
       "0      1  2.96   596\n",
       "1      1  3.14   473\n",
       "2      1  3.22   482\n",
       "3      1  3.29   527\n",
       "4      1  3.69   505"
      ]
     },
     "execution_count": 17,
     "metadata": {},
     "output_type": "execute_result"
    }
   ],
   "source": [
    "data.head()"
   ]
  },
  {
   "cell_type": "code",
   "execution_count": 18,
   "id": "a8fa0575",
   "metadata": {},
   "outputs": [
    {
     "name": "stdout",
     "output_type": "stream",
     "text": [
      "<class 'pandas.core.frame.DataFrame'>\n",
      "RangeIndex: 85 entries, 0 to 84\n",
      "Data columns (total 3 columns):\n",
      " #   Column  Non-Null Count  Dtype  \n",
      "---  ------  --------------  -----  \n",
      " 0   Group   85 non-null     int64  \n",
      " 1   GRE     85 non-null     float64\n",
      " 2   GMAT    85 non-null     int64  \n",
      "dtypes: float64(1), int64(2)\n",
      "memory usage: 2.1 KB\n"
     ]
    }
   ],
   "source": [
    "data.info()"
   ]
  },
  {
   "cell_type": "code",
   "execution_count": 19,
   "id": "34f91963",
   "metadata": {},
   "outputs": [
    {
     "data": {
      "text/plain": [
       "Group     3\n",
       "GRE      67\n",
       "GMAT     72\n",
       "dtype: int64"
      ]
     },
     "execution_count": 19,
     "metadata": {},
     "output_type": "execute_result"
    }
   ],
   "source": [
    "data.nunique()"
   ]
  },
  {
   "cell_type": "code",
   "execution_count": 20,
   "id": "3054f14f",
   "metadata": {},
   "outputs": [],
   "source": [
    "# i) Data Splitting"
   ]
  },
  {
   "cell_type": "code",
   "execution_count": 21,
   "id": "6d4359a7",
   "metadata": {},
   "outputs": [],
   "source": [
    "X = data[['GRE', 'GMAT']]  \n",
    "y = data['Group'] "
   ]
  },
  {
   "cell_type": "code",
   "execution_count": 22,
   "id": "8de6c9c1",
   "metadata": {},
   "outputs": [],
   "source": [
    "X_train, X_test, y_train, y_test = train_test_split(X, y, test_size=0.2, random_state=42)"
   ]
  },
  {
   "cell_type": "code",
   "execution_count": 23,
   "id": "64d77168",
   "metadata": {},
   "outputs": [
    {
     "name": "stdout",
     "output_type": "stream",
     "text": [
      "Training set size: 68\n",
      "Testing set size: 17\n"
     ]
    }
   ],
   "source": [
    "print(\"Training set size:\", X_train.shape[0])\n",
    "print(\"Testing set size:\", X_test.shape[0])"
   ]
  },
  {
   "cell_type": "code",
   "execution_count": 24,
   "id": "b0adf9dc",
   "metadata": {},
   "outputs": [
    {
     "data": {
      "text/plain": [
       "(85, 3)"
      ]
     },
     "execution_count": 24,
     "metadata": {},
     "output_type": "execute_result"
    }
   ],
   "source": [
    "data.shape"
   ]
  },
  {
   "cell_type": "code",
   "execution_count": 25,
   "id": "6dca830f",
   "metadata": {},
   "outputs": [],
   "source": [
    "# (ii) Linear Discriminant Analysis (LDA)"
   ]
  },
  {
   "cell_type": "code",
   "execution_count": 26,
   "id": "5a01395d",
   "metadata": {},
   "outputs": [
    {
     "data": {
      "text/plain": [
       "LinearDiscriminantAnalysis()"
      ]
     },
     "execution_count": 26,
     "metadata": {},
     "output_type": "execute_result"
    }
   ],
   "source": [
    "lda = LinearDiscriminantAnalysis()\n",
    "lda.fit(X_train, y_train)"
   ]
  },
  {
   "cell_type": "code",
   "execution_count": 27,
   "id": "95f1746f",
   "metadata": {},
   "outputs": [],
   "source": [
    "y_pred_lda = lda.predict(X_test)"
   ]
  },
  {
   "cell_type": "code",
   "execution_count": 28,
   "id": "1c7201a1",
   "metadata": {},
   "outputs": [],
   "source": [
    "# (iii) Confusion Matrix and determine the Accuracy"
   ]
  },
  {
   "cell_type": "code",
   "execution_count": 29,
   "id": "526618ad",
   "metadata": {},
   "outputs": [
    {
     "name": "stdout",
     "output_type": "stream",
     "text": [
      "LDA Confusion Matrix:\n",
      "[[6 0 0]\n",
      " [0 6 0]\n",
      " [0 0 5]]\n"
     ]
    }
   ],
   "source": [
    "print(\"LDA Confusion Matrix:\")\n",
    "print(confusion_matrix(y_test, y_pred_lda))"
   ]
  },
  {
   "cell_type": "code",
   "execution_count": 30,
   "id": "0d0c09a7",
   "metadata": {},
   "outputs": [
    {
     "name": "stdout",
     "output_type": "stream",
     "text": [
      "\n",
      "LDA Classification Report:\n",
      "              precision    recall  f1-score   support\n",
      "\n",
      "           1       1.00      1.00      1.00         6\n",
      "           2       1.00      1.00      1.00         6\n",
      "           3       1.00      1.00      1.00         5\n",
      "\n",
      "    accuracy                           1.00        17\n",
      "   macro avg       1.00      1.00      1.00        17\n",
      "weighted avg       1.00      1.00      1.00        17\n",
      "\n"
     ]
    }
   ],
   "source": [
    "print(\"\\nLDA Classification Report:\")\n",
    "print(classification_report(y_test, y_pred_lda))"
   ]
  },
  {
   "cell_type": "code",
   "execution_count": 31,
   "id": "a01e0575",
   "metadata": {},
   "outputs": [
    {
     "name": "stdout",
     "output_type": "stream",
     "text": [
      "LDA Accuracy: 1.0\n"
     ]
    }
   ],
   "source": [
    "print(\"LDA Accuracy:\", accuracy_score(y_test, y_pred_lda))"
   ]
  },
  {
   "cell_type": "code",
   "execution_count": 32,
   "id": "352ee846",
   "metadata": {},
   "outputs": [],
   "source": [
    "# (iv) Quadratic Discriminant Analysis (QDA)"
   ]
  },
  {
   "cell_type": "code",
   "execution_count": 33,
   "id": "674b9d47",
   "metadata": {},
   "outputs": [],
   "source": [
    "from sklearn.discriminant_analysis import QuadraticDiscriminantAnalysis"
   ]
  },
  {
   "cell_type": "code",
   "execution_count": 34,
   "id": "fcba5187",
   "metadata": {},
   "outputs": [
    {
     "data": {
      "text/plain": [
       "QuadraticDiscriminantAnalysis()"
      ]
     },
     "execution_count": 34,
     "metadata": {},
     "output_type": "execute_result"
    }
   ],
   "source": [
    "qda = QuadraticDiscriminantAnalysis()\n",
    "qda.fit(X_train, y_train)"
   ]
  },
  {
   "cell_type": "code",
   "execution_count": 35,
   "id": "83e10f5d",
   "metadata": {},
   "outputs": [],
   "source": [
    "y_pred_qda = qda.predict(X_test)"
   ]
  },
  {
   "cell_type": "code",
   "execution_count": 36,
   "id": "2bd905c4",
   "metadata": {},
   "outputs": [
    {
     "name": "stdout",
     "output_type": "stream",
     "text": [
      "QDA Confusion Matrix:\n",
      " [[6 0 0]\n",
      " [0 6 0]\n",
      " [0 0 5]]\n"
     ]
    }
   ],
   "source": [
    "cm_qda = confusion_matrix(y_test, y_pred_qda)\n",
    "print(\"QDA Confusion Matrix:\\n\", cm_qda)"
   ]
  },
  {
   "cell_type": "code",
   "execution_count": 37,
   "id": "161c257e",
   "metadata": {},
   "outputs": [
    {
     "name": "stdout",
     "output_type": "stream",
     "text": [
      "\n",
      "QDA Accuracy: 1.0\n"
     ]
    }
   ],
   "source": [
    "accuracy_qda = accuracy_score(y_test, y_pred_qda)\n",
    "print(\"\\nQDA Accuracy:\", accuracy_qda)"
   ]
  },
  {
   "cell_type": "code",
   "execution_count": 38,
   "id": "0ac73dcb",
   "metadata": {},
   "outputs": [
    {
     "name": "stdout",
     "output_type": "stream",
     "text": [
      "\n",
      "QDA Classification Report:\n",
      "                 precision    recall  f1-score   support\n",
      "\n",
      "     Admit (1)       1.00      1.00      1.00         6\n",
      " Not Admit (2)       1.00      1.00      1.00         6\n",
      "Borderline (3)       1.00      1.00      1.00         5\n",
      "\n",
      "      accuracy                           1.00        17\n",
      "     macro avg       1.00      1.00      1.00        17\n",
      "  weighted avg       1.00      1.00      1.00        17\n",
      "\n"
     ]
    }
   ],
   "source": [
    "report_qda = classification_report(y_test, y_pred_qda, target_names=[\"Admit (1)\", \"Not Admit (2)\", \"Borderline (3)\"])\n",
    "print(\"\\nQDA Classification Report:\\n\", report_qda)"
   ]
  },
  {
   "cell_type": "code",
   "execution_count": 39,
   "id": "fa357abe",
   "metadata": {},
   "outputs": [],
   "source": [
    "# Daily Interview Practice"
   ]
  },
  {
   "cell_type": "code",
   "execution_count": 40,
   "id": "4cb6031a",
   "metadata": {},
   "outputs": [],
   "source": [
    "# 2nd Sept, 2025"
   ]
  },
  {
   "cell_type": "code",
   "execution_count": 41,
   "id": "f6073a48",
   "metadata": {},
   "outputs": [],
   "source": [
    "# Array Basics (Python List)\n",
    "# 👉 Create a list of numbers from 1 to 10. Print only the even numbers using a loop."
   ]
  },
  {
   "cell_type": "code",
   "execution_count": 42,
   "id": "eb4cb974",
   "metadata": {},
   "outputs": [
    {
     "name": "stdout",
     "output_type": "stream",
     "text": [
      "0\n",
      "2\n",
      "4\n",
      "6\n",
      "8\n"
     ]
    }
   ],
   "source": [
    "a = range(10)\n",
    "for i in a:\n",
    "    if i%2 == 0:\n",
    "        print(i)"
   ]
  },
  {
   "cell_type": "code",
   "execution_count": 43,
   "id": "51e6f78d",
   "metadata": {},
   "outputs": [],
   "source": [
    "# NumPy Array Creation\n",
    "# 👉 Create a NumPy array with values from 0 to 20 in steps of 2."
   ]
  },
  {
   "cell_type": "code",
   "execution_count": 44,
   "id": "63095ad5",
   "metadata": {},
   "outputs": [
    {
     "name": "stdout",
     "output_type": "stream",
     "text": [
      "[ 0  2  4  6  8 10 12 14 16 18 20] "
     ]
    }
   ],
   "source": [
    "x = np.arange(0,21,2)\n",
    "print(x, end=\" \")"
   ]
  },
  {
   "cell_type": "code",
   "execution_count": 45,
   "id": "dd2d9a53",
   "metadata": {},
   "outputs": [],
   "source": [
    "# Array Statistics\n",
    "# 👉 Generate a NumPy array of 100 random numbers between 0 and 1. Print its mean, median, and standard deviation."
   ]
  },
  {
   "cell_type": "code",
   "execution_count": 46,
   "id": "46e9a1dc",
   "metadata": {},
   "outputs": [
    {
     "name": "stdout",
     "output_type": "stream",
     "text": [
      "The mean of y is 0.5479612034429687\n",
      "The median of y is 0.5953830868190646\n",
      "The SD of y is 0.2865102792462055\n"
     ]
    }
   ],
   "source": [
    "y = np.random.rand(100)\n",
    "print(\"The mean of y is\", np.mean(y))\n",
    "print(\"The median of y is\", np.median(y))\n",
    "print(\"The SD of y is\", np.std(y))"
   ]
  },
  {
   "cell_type": "code",
   "execution_count": 47,
   "id": "b500a16e",
   "metadata": {},
   "outputs": [],
   "source": [
    "# Loop with NumPy\n",
    "# 👉 Write a loop to calculate the sum of squares of numbers in a NumPy array [1, 2, 3, 4, 5].\n",
    "# Expected Output: 55."
   ]
  },
  {
   "cell_type": "code",
   "execution_count": 48,
   "id": "06c15a54",
   "metadata": {},
   "outputs": [
    {
     "name": "stdout",
     "output_type": "stream",
     "text": [
      "1\n",
      "5\n",
      "14\n",
      "30\n",
      "55\n"
     ]
    }
   ],
   "source": [
    "x = [1,2,3,4,5]\n",
    "total = 0\n",
    "for i in x:\n",
    "    total = total+(i**2)\n",
    "    print(total)"
   ]
  },
  {
   "cell_type": "code",
   "execution_count": 49,
   "id": "890ab7ac",
   "metadata": {},
   "outputs": [],
   "source": [
    "# 2D Array Manipulation\n",
    "# 👉 Create a 3x3 NumPy array with numbers 1–9. Extract the first row and the second column."
   ]
  },
  {
   "cell_type": "code",
   "execution_count": 50,
   "id": "470bf640",
   "metadata": {},
   "outputs": [
    {
     "name": "stdout",
     "output_type": "stream",
     "text": [
      "[[1 2 3]\n",
      " [4 5 6]\n",
      " [7 8 9]]\n"
     ]
    }
   ],
   "source": [
    "x = np.arange(1,10).reshape(3,3)\n",
    "print(x)"
   ]
  },
  {
   "cell_type": "code",
   "execution_count": 51,
   "id": "4819ef61",
   "metadata": {},
   "outputs": [
    {
     "data": {
      "text/plain": [
       "array([1, 2, 3])"
      ]
     },
     "execution_count": 51,
     "metadata": {},
     "output_type": "execute_result"
    }
   ],
   "source": [
    "x[0,:]"
   ]
  },
  {
   "cell_type": "code",
   "execution_count": 52,
   "id": "92037635",
   "metadata": {},
   "outputs": [
    {
     "data": {
      "text/plain": [
       "array([2, 5, 8])"
      ]
     },
     "execution_count": 52,
     "metadata": {},
     "output_type": "execute_result"
    }
   ],
   "source": [
    "x[:,1]"
   ]
  },
  {
   "cell_type": "code",
   "execution_count": 53,
   "id": "172615d9",
   "metadata": {},
   "outputs": [
    {
     "data": {
      "text/plain": [
       "array([7, 8, 9])"
      ]
     },
     "execution_count": 53,
     "metadata": {},
     "output_type": "execute_result"
    }
   ],
   "source": [
    "x[2,:]"
   ]
  },
  {
   "cell_type": "code",
   "execution_count": 54,
   "id": "c4dc21bf",
   "metadata": {},
   "outputs": [
    {
     "data": {
      "text/plain": [
       "array([1, 4, 7])"
      ]
     },
     "execution_count": 54,
     "metadata": {},
     "output_type": "execute_result"
    }
   ],
   "source": [
    "x[:,0]"
   ]
  },
  {
   "cell_type": "code",
   "execution_count": 55,
   "id": "7999c040",
   "metadata": {},
   "outputs": [
    {
     "data": {
      "text/plain": [
       "6"
      ]
     },
     "execution_count": 55,
     "metadata": {},
     "output_type": "execute_result"
    }
   ],
   "source": [
    "x[1,2]"
   ]
  },
  {
   "cell_type": "code",
   "execution_count": 56,
   "id": "dd262d52",
   "metadata": {},
   "outputs": [
    {
     "data": {
      "text/plain": [
       "array([[1, 2],\n",
       "       [4, 5]])"
      ]
     },
     "execution_count": 56,
     "metadata": {},
     "output_type": "execute_result"
    }
   ],
   "source": [
    "x[0:2,0:2]"
   ]
  },
  {
   "cell_type": "code",
   "execution_count": 57,
   "id": "46f3068e",
   "metadata": {},
   "outputs": [
    {
     "data": {
      "text/plain": [
       "array([[5, 6],\n",
       "       [8, 9]])"
      ]
     },
     "execution_count": 57,
     "metadata": {},
     "output_type": "execute_result"
    }
   ],
   "source": [
    "x[1:3,1:3]"
   ]
  },
  {
   "cell_type": "code",
   "execution_count": 58,
   "id": "da24d24e",
   "metadata": {},
   "outputs": [],
   "source": [
    "#Boolean Masking\n",
    "# 👉 From the array [5, 12, 7, 20, 25, 2], select only values greater than 10."
   ]
  },
  {
   "cell_type": "code",
   "execution_count": 59,
   "id": "780796cc",
   "metadata": {},
   "outputs": [
    {
     "name": "stdout",
     "output_type": "stream",
     "text": [
      "[12, 20, 25]\n"
     ]
    }
   ],
   "source": [
    "x = [5, 12, 7, 20, 25, 2]\n",
    "result = []\n",
    "\n",
    "for i in x:\n",
    "    if i > 10:\n",
    "        result.append(i)\n",
    "\n",
    "print(result)"
   ]
  },
  {
   "cell_type": "code",
   "execution_count": 60,
   "id": "4edbe3c7",
   "metadata": {},
   "outputs": [],
   "source": [
    "# Matplotlib Line Plot\n",
    "# 👉 Plot a line graph for y = x^2 where x = [0,1,2,3,4,5]."
   ]
  },
  {
   "cell_type": "code",
   "execution_count": 61,
   "id": "6b9abc5a",
   "metadata": {},
   "outputs": [
    {
     "data": {
      "image/png": "[encoded data removed]",
      "text/plain": [
       "<Figure size 640x480 with 1 Axes>"
      ]
     },
     "metadata": {},
     "output_type": "display_data"
    }
   ],
   "source": [
    "x = np.array([0,1,2,3,4,5])\n",
    "y = x**2\n",
    "\n",
    "plt.plot(x,y)\n",
    "plt.show()"
   ]
  },
  {
   "cell_type": "code",
   "execution_count": 62,
   "id": "66fd375a",
   "metadata": {},
   "outputs": [],
   "source": [
    "# Matplotlib Scatter Plot\n",
    "# 👉 Create a scatter plot of 50 random points (x, y) between 0 and 10."
   ]
  },
  {
   "cell_type": "code",
   "execution_count": 63,
   "id": "d8db480c",
   "metadata": {},
   "outputs": [
    {
     "data": {
      "image/png": "[encoded data removed]",
      "text/plain": [
       "<Figure size 640x480 with 1 Axes>"
      ]
     },
     "metadata": {},
     "output_type": "display_data"
    }
   ],
   "source": [
    "x = np.random.uniform(0,10,50)\n",
    "y = np.random.uniform(0,10,50)\n",
    "\n",
    "plt.scatter(x,y)\n",
    "plt.title(\"Matplotlib Scatter Plot\")\n",
    "plt.xlabel(\"X\")\n",
    "plt.ylabel(\"Y\")\n",
    "plt.show()"
   ]
  },
  {
   "cell_type": "code",
   "execution_count": 64,
   "id": "77cef95c",
   "metadata": {},
   "outputs": [],
   "source": [
    "# Matplotlib Bar Chart\n",
    "# 👉 Create a bar chart showing sales for 5 products: [20, 35, 30, 35, 27]"
   ]
  },
  {
   "cell_type": "code",
   "execution_count": 65,
   "id": "25b3019c",
   "metadata": {},
   "outputs": [
    {
     "data": {
      "image/png": "[encoded data removed]",
      "text/plain": [
       "<Figure size 640x480 with 1 Axes>"
      ]
     },
     "metadata": {},
     "output_type": "display_data"
    }
   ],
   "source": [
    "y = [20,35,30,35,27]\n",
    "x = [1,2,3,4,5]\n",
    "\n",
    "plt.bar(x,y)\n",
    "plt.title(\"Matplotlib Bar Plot\")\n",
    "plt.xlabel(\"X\")\n",
    "plt.ylabel(\"Y\")\n",
    "plt.show()"
   ]
  },
  {
   "cell_type": "code",
   "execution_count": 66,
   "id": "166b6714",
   "metadata": {},
   "outputs": [],
   "source": [
    "# Combine NumPy + Matplotlib\n",
    "# 👉 Generate 100 random values from a normal distribution. Plot their histogram with 10 bins."
   ]
  },
  {
   "cell_type": "code",
   "execution_count": 67,
   "id": "8cde1b61",
   "metadata": {},
   "outputs": [
    {
     "data": {
      "image/png": "[encoded data removed]",
      "text/plain": [
       "<Figure size 640x480 with 1 Axes>"
      ]
     },
     "metadata": {},
     "output_type": "display_data"
    }
   ],
   "source": [
    "y = np.random.randn(100)\n",
    "\n",
    "plt.hist(y, bins = 10)\n",
    "plt.show()"
   ]
  },
  {
   "cell_type": "code",
   "execution_count": 68,
   "id": "7a4309f2",
   "metadata": {},
   "outputs": [
    {
     "data": {
      "text/plain": [
       "array([ 0.57861186,  0.74159267,  0.28680121,  1.0029302 , -1.39559842,\n",
       "       -1.29715887,  1.38413947,  0.75798626, -0.51577252,  0.87207188,\n",
       "       -0.37108903, -1.75058469, -0.64694116, -0.46141778, -0.18465332,\n",
       "        0.69374542, -2.1856007 ,  0.95840995, -0.35618169, -0.15024275,\n",
       "       -0.38258018,  0.0612109 ,  0.47854027, -1.41083257,  1.86855358,\n",
       "       -0.27006089, -1.23539222,  0.26291068, -1.89526668, -0.38412037,\n",
       "       -0.19099301,  1.07538489,  2.0712738 ,  0.55484751, -0.29286724,\n",
       "       -0.29641415, -0.72891243, -0.73023392, -0.42204576,  1.34834162,\n",
       "        1.01639837,  0.10160088,  0.37734525,  0.13721695, -0.7155068 ,\n",
       "       -0.18426644,  1.21637124,  1.29737617,  1.3917154 ,  0.03469573,\n",
       "        0.93393411, -0.58350064, -0.99289059,  0.73124863,  0.42768036,\n",
       "        0.33277773, -1.27699865, -0.14328995,  0.26920466, -0.0944275 ,\n",
       "       -0.60519586,  0.38909154,  0.28850139,  0.13704249, -1.06585875,\n",
       "        0.38936878,  1.97751913, -0.44952783, -2.02385661,  0.23038157,\n",
       "       -0.64270853, -0.19072495, -0.62968357, -0.06297006, -1.62971138,\n",
       "        0.30323838,  1.10206051,  1.31188234,  0.80302364,  0.62991424,\n",
       "        1.59744542, -1.95836932,  0.60299843, -0.68039885,  0.10288821,\n",
       "        0.13019946, -0.10779335, -1.40220488, -0.99087136,  1.14047501,\n",
       "        1.59119428,  0.5174219 ,  0.15190769,  0.43371604,  0.83420189,\n",
       "       -0.87415304,  0.35891746,  1.87776684,  1.11529398,  0.93139077])"
      ]
     },
     "execution_count": 68,
     "metadata": {},
     "output_type": "execute_result"
    }
   ],
   "source": [
    "y"
   ]
  },
  {
   "cell_type": "code",
   "execution_count": 69,
   "id": "79159241",
   "metadata": {},
   "outputs": [],
   "source": [
    "# 4th Sept, 2025"
   ]
  },
  {
   "cell_type": "code",
   "execution_count": 70,
   "id": "59d5a593",
   "metadata": {},
   "outputs": [],
   "source": [
    "import pandas as pd\n",
    "import numpy as np"
   ]
  },
  {
   "cell_type": "code",
   "execution_count": 71,
   "id": "29a2c529",
   "metadata": {},
   "outputs": [],
   "source": [
    "# Read and Inspect Data\n",
    "#👉 Given a CSV file employees.csv, how would you:\n",
    "\n",
    "#Load it into Pandas?\n",
    "\n",
    "#Show first 5 rows?\n",
    "\n",
    "#Check column names and data types?"
   ]
  },
  {
   "cell_type": "code",
   "execution_count": 72,
   "id": "8a4c30af",
   "metadata": {},
   "outputs": [],
   "source": [
    "df = pd.read_csv(\"~chetandeshpande/downloads/employees.csv\")"
   ]
  },
  {
   "cell_type": "code",
   "execution_count": 73,
   "id": "845efd44",
   "metadata": {},
   "outputs": [
    {
     "data": {
      "text/html": [
       "<div>\n",
       "<style scoped>\n",
       "    .dataframe tbody tr th:only-of-type {\n",
       "        vertical-align: middle;\n",
       "    }\n",
       "\n",
       "    .dataframe tbody tr th {\n",
       "        vertical-align: top;\n",
       "    }\n",
       "\n",
       "    .dataframe thead th {\n",
       "        text-align: right;\n",
       "    }\n",
       "</style>\n",
       "<table border=\"1\" class=\"dataframe\">\n",
       "  <thead>\n",
       "    <tr style=\"text-align: right;\">\n",
       "      <th></th>\n",
       "      <th>EmployeeID</th>\n",
       "      <th>Name</th>\n",
       "      <th>Department</th>\n",
       "      <th>Age</th>\n",
       "      <th>Salary</th>\n",
       "      <th>JoiningDate</th>\n",
       "    </tr>\n",
       "  </thead>\n",
       "  <tbody>\n",
       "    <tr>\n",
       "      <th>0</th>\n",
       "      <td>101</td>\n",
       "      <td>Alice</td>\n",
       "      <td>HR</td>\n",
       "      <td>25</td>\n",
       "      <td>48000</td>\n",
       "      <td>2019-03-15</td>\n",
       "    </tr>\n",
       "    <tr>\n",
       "      <th>1</th>\n",
       "      <td>102</td>\n",
       "      <td>Bob</td>\n",
       "      <td>IT</td>\n",
       "      <td>32</td>\n",
       "      <td>60000</td>\n",
       "      <td>2018-07-10</td>\n",
       "    </tr>\n",
       "    <tr>\n",
       "      <th>2</th>\n",
       "      <td>103</td>\n",
       "      <td>Charlie</td>\n",
       "      <td>Finance</td>\n",
       "      <td>45</td>\n",
       "      <td>75000</td>\n",
       "      <td>2015-06-01</td>\n",
       "    </tr>\n",
       "    <tr>\n",
       "      <th>3</th>\n",
       "      <td>104</td>\n",
       "      <td>David</td>\n",
       "      <td>IT</td>\n",
       "      <td>28</td>\n",
       "      <td>52000</td>\n",
       "      <td>2020-01-25</td>\n",
       "    </tr>\n",
       "    <tr>\n",
       "      <th>4</th>\n",
       "      <td>105</td>\n",
       "      <td>Eva</td>\n",
       "      <td>HR</td>\n",
       "      <td>29</td>\n",
       "      <td>49000</td>\n",
       "      <td>2019-11-12</td>\n",
       "    </tr>\n",
       "  </tbody>\n",
       "</table>\n",
       "</div>"
      ],
      "text/plain": [
       "   EmployeeID     Name Department  Age  Salary JoiningDate\n",
       "0         101    Alice         HR   25   48000  2019-03-15\n",
       "1         102      Bob         IT   32   60000  2018-07-10\n",
       "2         103  Charlie    Finance   45   75000  2015-06-01\n",
       "3         104    David         IT   28   52000  2020-01-25\n",
       "4         105      Eva         HR   29   49000  2019-11-12"
      ]
     },
     "execution_count": 73,
     "metadata": {},
     "output_type": "execute_result"
    }
   ],
   "source": [
    "df.head()"
   ]
  },
  {
   "cell_type": "code",
   "execution_count": 74,
   "id": "c74d256b",
   "metadata": {},
   "outputs": [
    {
     "data": {
      "text/plain": [
       "Index(['EmployeeID', 'Name', 'Department', 'Age', 'Salary', 'JoiningDate'], dtype='object')"
      ]
     },
     "execution_count": 74,
     "metadata": {},
     "output_type": "execute_result"
    }
   ],
   "source": [
    "df.columns"
   ]
  },
  {
   "cell_type": "code",
   "execution_count": 75,
   "id": "8bc8e210",
   "metadata": {},
   "outputs": [
    {
     "name": "stdout",
     "output_type": "stream",
     "text": [
      "<class 'pandas.core.frame.DataFrame'>\n",
      "RangeIndex: 8 entries, 0 to 7\n",
      "Data columns (total 6 columns):\n",
      " #   Column       Non-Null Count  Dtype \n",
      "---  ------       --------------  ----- \n",
      " 0   EmployeeID   8 non-null      int64 \n",
      " 1   Name         8 non-null      object\n",
      " 2   Department   8 non-null      object\n",
      " 3   Age          8 non-null      int64 \n",
      " 4   Salary       8 non-null      int64 \n",
      " 5   JoiningDate  8 non-null      object\n",
      "dtypes: int64(3), object(3)\n",
      "memory usage: 512.0+ bytes\n"
     ]
    }
   ],
   "source": [
    "df.info()"
   ]
  },
  {
   "cell_type": "code",
   "execution_count": 76,
   "id": "354cd847",
   "metadata": {},
   "outputs": [],
   "source": [
    "# Filtering with Conditions\n",
    "# 👉 From a DataFrame df with columns Age and Salary, select only rows where:\n",
    "\n",
    "# Age > 30 and Salary > 50,000."
   ]
  },
  {
   "cell_type": "code",
   "execution_count": 77,
   "id": "3f240cec",
   "metadata": {},
   "outputs": [
    {
     "name": "stdout",
     "output_type": "stream",
     "text": [
      "0    False\n",
      "1     True\n",
      "2     True\n",
      "3    False\n",
      "4    False\n",
      "dtype: bool\n"
     ]
    }
   ],
   "source": [
    "x = ((df['Age'] > 30) & (df['Salary'] > 50000))\n",
    "print(x.head())"
   ]
  },
  {
   "cell_type": "code",
   "execution_count": 78,
   "id": "f7097a58",
   "metadata": {},
   "outputs": [
    {
     "name": "stdout",
     "output_type": "stream",
     "text": [
      "   EmployeeID     Name Department  Age  Salary JoiningDate\n",
      "1         102      Bob         IT   32   60000  2018-07-10\n",
      "2         103  Charlie    Finance   45   75000  2015-06-01\n",
      "5         106    Frank    Finance   40   68000  2016-09-23\n",
      "6         107    Grace         IT   35   72000  2017-08-14\n",
      "7         108    Helen         HR   50   80000  2010-05-30\n"
     ]
    }
   ],
   "source": [
    "filtered_df = df.query(\"Age > 30 and Salary > 50000\")\n",
    "print(filtered_df)"
   ]
  },
  {
   "cell_type": "code",
   "execution_count": 79,
   "id": "69118855",
   "metadata": {},
   "outputs": [],
   "source": [
    "# Find the total salary per Department.\n",
    "\n",
    "# Find the average age per Department."
   ]
  },
  {
   "cell_type": "code",
   "execution_count": 80,
   "id": "98fe2dac",
   "metadata": {},
   "outputs": [
    {
     "name": "stdout",
     "output_type": "stream",
     "text": [
      "Department\n",
      "Finance    143000\n",
      "HR         177000\n",
      "IT         184000\n",
      "Name: Salary, dtype: int64\n"
     ]
    }
   ],
   "source": [
    "total_salary = df.groupby(\"Department\")[\"Salary\"].sum()\n",
    "print(total_salary)"
   ]
  },
  {
   "cell_type": "code",
   "execution_count": 81,
   "id": "3b18aa9b",
   "metadata": {},
   "outputs": [
    {
     "name": "stdout",
     "output_type": "stream",
     "text": [
      "Department\n",
      "Finance    42.500000\n",
      "HR         34.666667\n",
      "IT         31.666667\n",
      "Name: Age, dtype: float64\n"
     ]
    }
   ],
   "source": [
    "ave_age_per_dept = df.groupby(\"Department\")[\"Age\"].mean()\n",
    "print(ave_age_per_dept)"
   ]
  },
  {
   "cell_type": "code",
   "execution_count": 82,
   "id": "e9d4e8d5",
   "metadata": {},
   "outputs": [],
   "source": [
    "# Missing Values\n",
    "# 👉 How would you:\n",
    "\n",
    "# Find which columns have missing values?"
   ]
  },
  {
   "cell_type": "code",
   "execution_count": 83,
   "id": "8cde9cab",
   "metadata": {},
   "outputs": [
    {
     "data": {
      "text/plain": [
       "EmployeeID     0\n",
       "Name           0\n",
       "Department     0\n",
       "Age            0\n",
       "Salary         0\n",
       "JoiningDate    0\n",
       "dtype: int64"
      ]
     },
     "execution_count": 83,
     "metadata": {},
     "output_type": "execute_result"
    }
   ],
   "source": [
    "df.isnull().sum()"
   ]
  },
  {
   "cell_type": "code",
   "execution_count": 84,
   "id": "46e0e054",
   "metadata": {},
   "outputs": [],
   "source": [
    "# NumPy Arrays\n",
    "\n",
    "# Array Basics\n",
    "# 👉 Create a NumPy array with numbers from 10 to 50 in steps of 5.\n",
    "\n",
    "# Then reshape it into a 3×3 matrix."
   ]
  },
  {
   "cell_type": "code",
   "execution_count": 85,
   "id": "a0daa68f",
   "metadata": {},
   "outputs": [
    {
     "name": "stdout",
     "output_type": "stream",
     "text": [
      "[10 15 20 25 30 35 40 45 50]\n"
     ]
    }
   ],
   "source": [
    "x = np.arange(10,51,5)\n",
    "print(x)"
   ]
  },
  {
   "cell_type": "code",
   "execution_count": 86,
   "id": "87e48a12",
   "metadata": {},
   "outputs": [
    {
     "data": {
      "text/plain": [
       "array([[10, 15, 20],\n",
       "       [25, 30, 35],\n",
       "       [40, 45, 50]])"
      ]
     },
     "execution_count": 86,
     "metadata": {},
     "output_type": "execute_result"
    }
   ],
   "source": [
    "np.reshape(x, (3, 3))"
   ]
  },
  {
   "cell_type": "code",
   "execution_count": 87,
   "id": "35b734f6",
   "metadata": {},
   "outputs": [],
   "source": [
    "# Array Operations\n",
    "# 👉 Given a = np.array([1,2,3,4,5]), compute:\n",
    "\n",
    "# Square of each element.\n",
    "\n",
    "# Mean and standard deviation."
   ]
  },
  {
   "cell_type": "code",
   "execution_count": 88,
   "id": "a7f8c454",
   "metadata": {},
   "outputs": [],
   "source": [
    "a = np.array([1,2,3,4,5])"
   ]
  },
  {
   "cell_type": "code",
   "execution_count": 89,
   "id": "aed33c03",
   "metadata": {},
   "outputs": [
    {
     "data": {
      "text/plain": [
       "array([ 1,  4,  9, 16, 25])"
      ]
     },
     "execution_count": 89,
     "metadata": {},
     "output_type": "execute_result"
    }
   ],
   "source": [
    "b = a**2\n",
    "b"
   ]
  },
  {
   "cell_type": "code",
   "execution_count": 90,
   "id": "f3e11907",
   "metadata": {},
   "outputs": [
    {
     "data": {
      "text/plain": [
       "3.0"
      ]
     },
     "execution_count": 90,
     "metadata": {},
     "output_type": "execute_result"
    }
   ],
   "source": [
    "c = a.mean()\n",
    "c"
   ]
  },
  {
   "cell_type": "code",
   "execution_count": 91,
   "id": "1c1d9e96",
   "metadata": {},
   "outputs": [
    {
     "data": {
      "text/plain": [
       "1.4142135623730951"
      ]
     },
     "execution_count": 91,
     "metadata": {},
     "output_type": "execute_result"
    }
   ],
   "source": [
    "d = a.std()\n",
    "d"
   ]
  },
  {
   "cell_type": "code",
   "execution_count": 92,
   "id": "480e0bce",
   "metadata": {},
   "outputs": [],
   "source": [
    "# Boolean Indexing\n",
    "# 👉 From arr = np.array([5, 12, 7, 20, 25, 2]), select only numbers greater than 10.# "
   ]
  },
  {
   "cell_type": "code",
   "execution_count": 93,
   "id": "44c12b98",
   "metadata": {},
   "outputs": [],
   "source": [
    "arr = np.array([5, 12, 7, 20, 25, 2])"
   ]
  },
  {
   "cell_type": "code",
   "execution_count": 94,
   "id": "05a76445",
   "metadata": {},
   "outputs": [
    {
     "data": {
      "text/plain": [
       "array([False,  True, False,  True,  True, False])"
      ]
     },
     "execution_count": 94,
     "metadata": {},
     "output_type": "execute_result"
    }
   ],
   "source": [
    "x = arr > 10\n",
    "x"
   ]
  },
  {
   "cell_type": "code",
   "execution_count": 95,
   "id": "dd70106c",
   "metadata": {},
   "outputs": [],
   "source": [
    "# Loop with Condition\n",
    "# 👉 Write a for loop to calculate the sum of squares of numbers from 1 to 5."
   ]
  },
  {
   "cell_type": "code",
   "execution_count": 96,
   "id": "72c1227a",
   "metadata": {},
   "outputs": [
    {
     "name": "stdout",
     "output_type": "stream",
     "text": [
      "1\n",
      "5\n",
      "14\n",
      "30\n",
      "55\n"
     ]
    }
   ],
   "source": [
    "x = range(1,6)\n",
    "total = 0\n",
    "\n",
    "for i in x:\n",
    "    y = i**2\n",
    "    total = total + y\n",
    "    print(total)"
   ]
  },
  {
   "cell_type": "code",
   "execution_count": 97,
   "id": "27d0db7e",
   "metadata": {},
   "outputs": [],
   "source": [
    "# Nested Loops\n",
    "# 👉 Print a multiplication table for numbers 1 through 3, using nested loops."
   ]
  },
  {
   "cell_type": "code",
   "execution_count": 98,
   "id": "7e65d4ba",
   "metadata": {},
   "outputs": [
    {
     "name": "stdout",
     "output_type": "stream",
     "text": [
      "1\t2\t3\t\n",
      "2\t4\t6\t\n",
      "3\t6\t9\t\n"
     ]
    }
   ],
   "source": [
    "for i in range(1,4):\n",
    "    for j in range(1,4):\n",
    "        print(i*j, end=\"\\t\")\n",
    "    print()"
   ]
  },
  {
   "cell_type": "code",
   "execution_count": 99,
   "id": "bd8b3fab",
   "metadata": {},
   "outputs": [],
   "source": [
    "# Custom Function\n",
    "# 👉 Write a function is_even(n) that:\n",
    "\n",
    "# Takes an integer input.\n",
    "\n",
    "# Returns True if even, False if odd.\n",
    "\n",
    "# Then use it in a loop to print all even numbers from 1 to 20."
   ]
  },
  {
   "cell_type": "code",
   "execution_count": 100,
   "id": "90b14ae3",
   "metadata": {},
   "outputs": [
    {
     "name": "stdout",
     "output_type": "stream",
     "text": [
      "2 is even\n",
      "4 is even\n",
      "6 is even\n",
      "8 is even\n",
      "10 is even\n",
      "12 is even\n",
      "14 is even\n",
      "16 is even\n",
      "18 is even\n",
      "20 is even\n"
     ]
    }
   ],
   "source": [
    "def is_even(n):\n",
    "    if n%2==0:\n",
    "        return True\n",
    "    else:\n",
    "        return False\n",
    "    \n",
    "for i in range(1,21):\n",
    "    if is_even(i):\n",
    "        print(i, \"is even\")"
   ]
  },
  {
   "cell_type": "code",
   "execution_count": 101,
   "id": "6d8c0bd2",
   "metadata": {},
   "outputs": [
    {
     "data": {
      "text/plain": [
       "False"
      ]
     },
     "execution_count": 101,
     "metadata": {},
     "output_type": "execute_result"
    }
   ],
   "source": [
    "is_even(3)"
   ]
  },
  {
   "cell_type": "code",
   "execution_count": 102,
   "id": "cb232450",
   "metadata": {},
   "outputs": [],
   "source": [
    "# 5 th Sept, 2025"
   ]
  },
  {
   "cell_type": "code",
   "execution_count": 103,
   "id": "111885e5",
   "metadata": {},
   "outputs": [],
   "source": [
    "# Write a function factorial(n) that returns the factorial of a number using a loop."
   ]
  },
  {
   "cell_type": "code",
   "execution_count": 104,
   "id": "504e348e",
   "metadata": {},
   "outputs": [
    {
     "ename": "KeyboardInterrupt",
     "evalue": "Interrupted by user",
     "output_type": "error",
     "traceback": [
      "\u001b[0;31m---------------------------------------------------------------------------\u001b[0m",
      "\u001b[0;31mKeyboardInterrupt\u001b[0m                         Traceback (most recent call last)",
      "\u001b[0;32m/var/folders/9w/kpm27gb95m3g8t427y0dd14m0000gn/T/ipykernel_39186/3922424786.py\u001b[0m in \u001b[0;36m<module>\u001b[0;34m\u001b[0m\n\u001b[0;32m----> 1\u001b[0;31m \u001b[0mn\u001b[0m \u001b[0;34m=\u001b[0m \u001b[0mint\u001b[0m\u001b[0;34m(\u001b[0m\u001b[0minput\u001b[0m\u001b[0;34m(\u001b[0m\u001b[0;34m)\u001b[0m\u001b[0;34m)\u001b[0m\u001b[0;34m\u001b[0m\u001b[0;34m\u001b[0m\u001b[0m\n\u001b[0m\u001b[1;32m      2\u001b[0m \u001b[0;34m\u001b[0m\u001b[0m\n\u001b[1;32m      3\u001b[0m \u001b[0mresult\u001b[0m \u001b[0;34m=\u001b[0m \u001b[0;36m1\u001b[0m\u001b[0;34m\u001b[0m\u001b[0;34m\u001b[0m\u001b[0m\n\u001b[1;32m      4\u001b[0m \u001b[0;32mfor\u001b[0m \u001b[0mi\u001b[0m \u001b[0;32min\u001b[0m \u001b[0mrange\u001b[0m\u001b[0;34m(\u001b[0m\u001b[0;36m1\u001b[0m\u001b[0;34m,\u001b[0m \u001b[0mn\u001b[0m\u001b[0;34m+\u001b[0m\u001b[0;36m1\u001b[0m\u001b[0;34m)\u001b[0m\u001b[0;34m:\u001b[0m\u001b[0;34m\u001b[0m\u001b[0;34m\u001b[0m\u001b[0m\n\u001b[1;32m      5\u001b[0m     \u001b[0mresult\u001b[0m \u001b[0;34m=\u001b[0m \u001b[0mresult\u001b[0m\u001b[0;34m*\u001b[0m\u001b[0mi\u001b[0m\u001b[0;34m\u001b[0m\u001b[0;34m\u001b[0m\u001b[0m\n",
      "\u001b[0;32m/opt/anaconda3/lib/python3.9/site-packages/ipykernel/kernelbase.py\u001b[0m in \u001b[0;36mraw_input\u001b[0;34m(self, prompt)\u001b[0m\n\u001b[1;32m   1175\u001b[0m                 \u001b[0;34m\"raw_input was called, but this frontend does not support input requests.\"\u001b[0m\u001b[0;34m\u001b[0m\u001b[0;34m\u001b[0m\u001b[0m\n\u001b[1;32m   1176\u001b[0m             )\n\u001b[0;32m-> 1177\u001b[0;31m         return self._input_request(\n\u001b[0m\u001b[1;32m   1178\u001b[0m             \u001b[0mstr\u001b[0m\u001b[0;34m(\u001b[0m\u001b[0mprompt\u001b[0m\u001b[0;34m)\u001b[0m\u001b[0;34m,\u001b[0m\u001b[0;34m\u001b[0m\u001b[0;34m\u001b[0m\u001b[0m\n\u001b[1;32m   1179\u001b[0m             \u001b[0mself\u001b[0m\u001b[0;34m.\u001b[0m\u001b[0m_parent_ident\u001b[0m\u001b[0;34m[\u001b[0m\u001b[0;34m\"shell\"\u001b[0m\u001b[0;34m]\u001b[0m\u001b[0;34m,\u001b[0m\u001b[0;34m\u001b[0m\u001b[0;34m\u001b[0m\u001b[0m\n",
      "\u001b[0;32m/opt/anaconda3/lib/python3.9/site-packages/ipykernel/kernelbase.py\u001b[0m in \u001b[0;36m_input_request\u001b[0;34m(self, prompt, ident, parent, password)\u001b[0m\n\u001b[1;32m   1217\u001b[0m             \u001b[0;32mexcept\u001b[0m \u001b[0mKeyboardInterrupt\u001b[0m\u001b[0;34m:\u001b[0m\u001b[0;34m\u001b[0m\u001b[0;34m\u001b[0m\u001b[0m\n\u001b[1;32m   1218\u001b[0m                 \u001b[0;31m# re-raise KeyboardInterrupt, to truncate traceback\u001b[0m\u001b[0;34m\u001b[0m\u001b[0;34m\u001b[0m\u001b[0m\n\u001b[0;32m-> 1219\u001b[0;31m                 \u001b[0;32mraise\u001b[0m \u001b[0mKeyboardInterrupt\u001b[0m\u001b[0;34m(\u001b[0m\u001b[0;34m\"Interrupted by user\"\u001b[0m\u001b[0;34m)\u001b[0m \u001b[0;32mfrom\u001b[0m \u001b[0;32mNone\u001b[0m\u001b[0;34m\u001b[0m\u001b[0;34m\u001b[0m\u001b[0m\n\u001b[0m\u001b[1;32m   1220\u001b[0m             \u001b[0;32mexcept\u001b[0m \u001b[0mException\u001b[0m\u001b[0;34m:\u001b[0m\u001b[0;34m\u001b[0m\u001b[0;34m\u001b[0m\u001b[0m\n\u001b[1;32m   1221\u001b[0m                 \u001b[0mself\u001b[0m\u001b[0;34m.\u001b[0m\u001b[0mlog\u001b[0m\u001b[0;34m.\u001b[0m\u001b[0mwarning\u001b[0m\u001b[0;34m(\u001b[0m\u001b[0;34m\"Invalid Message:\"\u001b[0m\u001b[0;34m,\u001b[0m \u001b[0mexc_info\u001b[0m\u001b[0;34m=\u001b[0m\u001b[0;32mTrue\u001b[0m\u001b[0;34m)\u001b[0m\u001b[0;34m\u001b[0m\u001b[0;34m\u001b[0m\u001b[0m\n",
      "\u001b[0;31mKeyboardInterrupt\u001b[0m: Interrupted by user"
     ]
    }
   ],
   "source": [
    "n = int(input())\n",
    "\n",
    "result = 1\n",
    "for i in range(1, n+1):\n",
    "    result = result*i\n",
    "    \n",
    "print(result)"
   ]
  },
  {
   "cell_type": "code",
   "execution_count": null,
   "id": "b4629309",
   "metadata": {},
   "outputs": [],
   "source": [
    "# Write a function list_sum(numbers) that takes a list of numbers and returns their sum."
   ]
  },
  {
   "cell_type": "code",
   "execution_count": null,
   "id": "0a0268c6",
   "metadata": {},
   "outputs": [],
   "source": [
    "import numpy as np"
   ]
  },
  {
   "cell_type": "code",
   "execution_count": null,
   "id": "1a71773c",
   "metadata": {},
   "outputs": [],
   "source": [
    "n = int(input())\n",
    "arr = np.arange(1,n+1)\n",
    "print(arr)\n",
    "\n",
    "def list_sum(num):\n",
    "    sum = 0\n",
    "    for i in num:\n",
    "        sum = sum + i\n",
    "    return sum\n",
    "    \n",
    "print(\"the total sum of\", n, \"is\", list_sum(arr))"
   ]
  },
  {
   "cell_type": "code",
   "execution_count": null,
   "id": "c7c6e4cb",
   "metadata": {},
   "outputs": [],
   "source": [
    "# Write a function find_max(numbers) that returns the largest number from a list."
   ]
  },
  {
   "cell_type": "code",
   "execution_count": null,
   "id": "5253df21",
   "metadata": {},
   "outputs": [],
   "source": [
    "numbers = list(map(int, input().split()))\n",
    "\n",
    "def find_max(numbers):\n",
    "    max_value = numbers[0]\n",
    "    for i in numbers:\n",
    "        if i > max_value:\n",
    "            max_value = i\n",
    "    return max_value\n",
    "    \n",
    "print(\"The largest number is:\", find_max(numbers))"
   ]
  },
  {
   "cell_type": "code",
   "execution_count": 113,
   "id": "048f24e1",
   "metadata": {},
   "outputs": [],
   "source": [
    "df = pd.read_csv(\"~chetandeshpande/downloads/Ch1_bike_sharing_data.csv\")"
   ]
  },
  {
   "cell_type": "code",
   "execution_count": 114,
   "id": "ca69b122",
   "metadata": {},
   "outputs": [
    {
     "data": {
      "text/html": [
       "<div>\n",
       "<style scoped>\n",
       "    .dataframe tbody tr th:only-of-type {\n",
       "        vertical-align: middle;\n",
       "    }\n",
       "\n",
       "    .dataframe tbody tr th {\n",
       "        vertical-align: top;\n",
       "    }\n",
       "\n",
       "    .dataframe thead th {\n",
       "        text-align: right;\n",
       "    }\n",
       "</style>\n",
       "<table border=\"1\" class=\"dataframe\">\n",
       "  <thead>\n",
       "    <tr style=\"text-align: right;\">\n",
       "      <th></th>\n",
       "      <th>datetime</th>\n",
       "      <th>season</th>\n",
       "      <th>holiday</th>\n",
       "      <th>workingday</th>\n",
       "      <th>weather</th>\n",
       "      <th>temp</th>\n",
       "      <th>atemp</th>\n",
       "      <th>humidity</th>\n",
       "      <th>windspeed</th>\n",
       "      <th>casual</th>\n",
       "      <th>registered</th>\n",
       "      <th>count</th>\n",
       "    </tr>\n",
       "  </thead>\n",
       "  <tbody>\n",
       "    <tr>\n",
       "      <th>0</th>\n",
       "      <td>1/1/2011 0:00</td>\n",
       "      <td>1</td>\n",
       "      <td>0</td>\n",
       "      <td>0</td>\n",
       "      <td>1</td>\n",
       "      <td>9.84</td>\n",
       "      <td>14.395</td>\n",
       "      <td>81</td>\n",
       "      <td>0.0</td>\n",
       "      <td>3</td>\n",
       "      <td>13</td>\n",
       "      <td>16</td>\n",
       "    </tr>\n",
       "    <tr>\n",
       "      <th>1</th>\n",
       "      <td>1/1/2011 1:00</td>\n",
       "      <td>1</td>\n",
       "      <td>0</td>\n",
       "      <td>0</td>\n",
       "      <td>1</td>\n",
       "      <td>9.02</td>\n",
       "      <td>13.635</td>\n",
       "      <td>80</td>\n",
       "      <td>0.0</td>\n",
       "      <td>8</td>\n",
       "      <td>32</td>\n",
       "      <td>40</td>\n",
       "    </tr>\n",
       "    <tr>\n",
       "      <th>2</th>\n",
       "      <td>1/1/2011 2:00</td>\n",
       "      <td>1</td>\n",
       "      <td>0</td>\n",
       "      <td>0</td>\n",
       "      <td>1</td>\n",
       "      <td>9.02</td>\n",
       "      <td>13.635</td>\n",
       "      <td>80</td>\n",
       "      <td>0.0</td>\n",
       "      <td>5</td>\n",
       "      <td>27</td>\n",
       "      <td>32</td>\n",
       "    </tr>\n",
       "    <tr>\n",
       "      <th>3</th>\n",
       "      <td>1/1/2011 3:00</td>\n",
       "      <td>1</td>\n",
       "      <td>0</td>\n",
       "      <td>0</td>\n",
       "      <td>1</td>\n",
       "      <td>9.84</td>\n",
       "      <td>14.395</td>\n",
       "      <td>75</td>\n",
       "      <td>0.0</td>\n",
       "      <td>3</td>\n",
       "      <td>10</td>\n",
       "      <td>13</td>\n",
       "    </tr>\n",
       "    <tr>\n",
       "      <th>4</th>\n",
       "      <td>1/1/2011 4:00</td>\n",
       "      <td>1</td>\n",
       "      <td>0</td>\n",
       "      <td>0</td>\n",
       "      <td>1</td>\n",
       "      <td>9.84</td>\n",
       "      <td>14.395</td>\n",
       "      <td>75</td>\n",
       "      <td>0.0</td>\n",
       "      <td>0</td>\n",
       "      <td>1</td>\n",
       "      <td>1</td>\n",
       "    </tr>\n",
       "  </tbody>\n",
       "</table>\n",
       "</div>"
      ],
      "text/plain": [
       "        datetime  season  holiday  workingday  weather  temp   atemp  \\\n",
       "0  1/1/2011 0:00       1        0           0        1  9.84  14.395   \n",
       "1  1/1/2011 1:00       1        0           0        1  9.02  13.635   \n",
       "2  1/1/2011 2:00       1        0           0        1  9.02  13.635   \n",
       "3  1/1/2011 3:00       1        0           0        1  9.84  14.395   \n",
       "4  1/1/2011 4:00       1        0           0        1  9.84  14.395   \n",
       "\n",
       "   humidity  windspeed  casual  registered  count  \n",
       "0        81        0.0       3          13     16  \n",
       "1        80        0.0       8          32     40  \n",
       "2        80        0.0       5          27     32  \n",
       "3        75        0.0       3          10     13  \n",
       "4        75        0.0       0           1      1  "
      ]
     },
     "execution_count": 114,
     "metadata": {},
     "output_type": "execute_result"
    }
   ],
   "source": [
    "df.head()"
   ]
  },
  {
   "cell_type": "code",
   "execution_count": 115,
   "id": "0ba7148b",
   "metadata": {},
   "outputs": [],
   "source": [
    "df[\"datetime\"] = pd.to_datetime(df[\"datetime\"], errors=\"coerce\")"
   ]
  },
  {
   "cell_type": "code",
   "execution_count": 116,
   "id": "a5029dec",
   "metadata": {},
   "outputs": [
    {
     "data": {
      "text/html": [
       "<div>\n",
       "<style scoped>\n",
       "    .dataframe tbody tr th:only-of-type {\n",
       "        vertical-align: middle;\n",
       "    }\n",
       "\n",
       "    .dataframe tbody tr th {\n",
       "        vertical-align: top;\n",
       "    }\n",
       "\n",
       "    .dataframe thead th {\n",
       "        text-align: right;\n",
       "    }\n",
       "</style>\n",
       "<table border=\"1\" class=\"dataframe\">\n",
       "  <thead>\n",
       "    <tr style=\"text-align: right;\">\n",
       "      <th></th>\n",
       "      <th>datetime</th>\n",
       "      <th>season</th>\n",
       "      <th>holiday</th>\n",
       "      <th>workingday</th>\n",
       "      <th>weather</th>\n",
       "      <th>temp</th>\n",
       "      <th>atemp</th>\n",
       "      <th>humidity</th>\n",
       "      <th>windspeed</th>\n",
       "      <th>casual</th>\n",
       "      <th>registered</th>\n",
       "      <th>count</th>\n",
       "    </tr>\n",
       "  </thead>\n",
       "  <tbody>\n",
       "    <tr>\n",
       "      <th>0</th>\n",
       "      <td>2011-01-01 00:00:00</td>\n",
       "      <td>1</td>\n",
       "      <td>0</td>\n",
       "      <td>0</td>\n",
       "      <td>1</td>\n",
       "      <td>9.84</td>\n",
       "      <td>14.395</td>\n",
       "      <td>81</td>\n",
       "      <td>0.0000</td>\n",
       "      <td>3</td>\n",
       "      <td>13</td>\n",
       "      <td>16</td>\n",
       "    </tr>\n",
       "    <tr>\n",
       "      <th>1</th>\n",
       "      <td>2011-01-01 01:00:00</td>\n",
       "      <td>1</td>\n",
       "      <td>0</td>\n",
       "      <td>0</td>\n",
       "      <td>1</td>\n",
       "      <td>9.02</td>\n",
       "      <td>13.635</td>\n",
       "      <td>80</td>\n",
       "      <td>0.0000</td>\n",
       "      <td>8</td>\n",
       "      <td>32</td>\n",
       "      <td>40</td>\n",
       "    </tr>\n",
       "    <tr>\n",
       "      <th>2</th>\n",
       "      <td>2011-01-01 02:00:00</td>\n",
       "      <td>1</td>\n",
       "      <td>0</td>\n",
       "      <td>0</td>\n",
       "      <td>1</td>\n",
       "      <td>9.02</td>\n",
       "      <td>13.635</td>\n",
       "      <td>80</td>\n",
       "      <td>0.0000</td>\n",
       "      <td>5</td>\n",
       "      <td>27</td>\n",
       "      <td>32</td>\n",
       "    </tr>\n",
       "    <tr>\n",
       "      <th>3</th>\n",
       "      <td>2011-01-01 03:00:00</td>\n",
       "      <td>1</td>\n",
       "      <td>0</td>\n",
       "      <td>0</td>\n",
       "      <td>1</td>\n",
       "      <td>9.84</td>\n",
       "      <td>14.395</td>\n",
       "      <td>75</td>\n",
       "      <td>0.0000</td>\n",
       "      <td>3</td>\n",
       "      <td>10</td>\n",
       "      <td>13</td>\n",
       "    </tr>\n",
       "    <tr>\n",
       "      <th>4</th>\n",
       "      <td>2011-01-01 04:00:00</td>\n",
       "      <td>1</td>\n",
       "      <td>0</td>\n",
       "      <td>0</td>\n",
       "      <td>1</td>\n",
       "      <td>9.84</td>\n",
       "      <td>14.395</td>\n",
       "      <td>75</td>\n",
       "      <td>0.0000</td>\n",
       "      <td>0</td>\n",
       "      <td>1</td>\n",
       "      <td>1</td>\n",
       "    </tr>\n",
       "    <tr>\n",
       "      <th>5</th>\n",
       "      <td>2011-01-01 05:00:00</td>\n",
       "      <td>1</td>\n",
       "      <td>0</td>\n",
       "      <td>0</td>\n",
       "      <td>2</td>\n",
       "      <td>9.84</td>\n",
       "      <td>12.880</td>\n",
       "      <td>75</td>\n",
       "      <td>6.0032</td>\n",
       "      <td>0</td>\n",
       "      <td>1</td>\n",
       "      <td>1</td>\n",
       "    </tr>\n",
       "    <tr>\n",
       "      <th>6</th>\n",
       "      <td>2011-01-01 06:00:00</td>\n",
       "      <td>1</td>\n",
       "      <td>0</td>\n",
       "      <td>0</td>\n",
       "      <td>1</td>\n",
       "      <td>9.02</td>\n",
       "      <td>13.635</td>\n",
       "      <td>80</td>\n",
       "      <td>0.0000</td>\n",
       "      <td>2</td>\n",
       "      <td>0</td>\n",
       "      <td>2</td>\n",
       "    </tr>\n",
       "    <tr>\n",
       "      <th>7</th>\n",
       "      <td>2011-01-01 07:00:00</td>\n",
       "      <td>1</td>\n",
       "      <td>0</td>\n",
       "      <td>0</td>\n",
       "      <td>1</td>\n",
       "      <td>8.20</td>\n",
       "      <td>12.880</td>\n",
       "      <td>86</td>\n",
       "      <td>0.0000</td>\n",
       "      <td>1</td>\n",
       "      <td>2</td>\n",
       "      <td>3</td>\n",
       "    </tr>\n",
       "    <tr>\n",
       "      <th>8</th>\n",
       "      <td>2011-01-01 08:00:00</td>\n",
       "      <td>1</td>\n",
       "      <td>0</td>\n",
       "      <td>0</td>\n",
       "      <td>1</td>\n",
       "      <td>9.84</td>\n",
       "      <td>14.395</td>\n",
       "      <td>75</td>\n",
       "      <td>0.0000</td>\n",
       "      <td>1</td>\n",
       "      <td>7</td>\n",
       "      <td>8</td>\n",
       "    </tr>\n",
       "    <tr>\n",
       "      <th>9</th>\n",
       "      <td>2011-01-01 09:00:00</td>\n",
       "      <td>1</td>\n",
       "      <td>0</td>\n",
       "      <td>0</td>\n",
       "      <td>1</td>\n",
       "      <td>13.12</td>\n",
       "      <td>17.425</td>\n",
       "      <td>76</td>\n",
       "      <td>0.0000</td>\n",
       "      <td>8</td>\n",
       "      <td>6</td>\n",
       "      <td>14</td>\n",
       "    </tr>\n",
       "  </tbody>\n",
       "</table>\n",
       "</div>"
      ],
      "text/plain": [
       "             datetime  season  holiday  workingday  weather   temp   atemp  \\\n",
       "0 2011-01-01 00:00:00       1        0           0        1   9.84  14.395   \n",
       "1 2011-01-01 01:00:00       1        0           0        1   9.02  13.635   \n",
       "2 2011-01-01 02:00:00       1        0           0        1   9.02  13.635   \n",
       "3 2011-01-01 03:00:00       1        0           0        1   9.84  14.395   \n",
       "4 2011-01-01 04:00:00       1        0           0        1   9.84  14.395   \n",
       "5 2011-01-01 05:00:00       1        0           0        2   9.84  12.880   \n",
       "6 2011-01-01 06:00:00       1        0           0        1   9.02  13.635   \n",
       "7 2011-01-01 07:00:00       1        0           0        1   8.20  12.880   \n",
       "8 2011-01-01 08:00:00       1        0           0        1   9.84  14.395   \n",
       "9 2011-01-01 09:00:00       1        0           0        1  13.12  17.425   \n",
       "\n",
       "   humidity  windspeed  casual  registered  count  \n",
       "0        81     0.0000       3          13     16  \n",
       "1        80     0.0000       8          32     40  \n",
       "2        80     0.0000       5          27     32  \n",
       "3        75     0.0000       3          10     13  \n",
       "4        75     0.0000       0           1      1  \n",
       "5        75     6.0032       0           1      1  \n",
       "6        80     0.0000       2           0      2  \n",
       "7        86     0.0000       1           2      3  \n",
       "8        75     0.0000       1           7      8  \n",
       "9        76     0.0000       8           6     14  "
      ]
     },
     "execution_count": 116,
     "metadata": {},
     "output_type": "execute_result"
    }
   ],
   "source": [
    "df.head(10)"
   ]
  },
  {
   "cell_type": "code",
   "execution_count": 117,
   "id": "df46e3fc",
   "metadata": {},
   "outputs": [
    {
     "name": "stdout",
     "output_type": "stream",
     "text": [
      "<class 'pandas.core.frame.DataFrame'>\n",
      "RangeIndex: 17379 entries, 0 to 17378\n",
      "Data columns (total 12 columns):\n",
      " #   Column      Non-Null Count  Dtype         \n",
      "---  ------      --------------  -----         \n",
      " 0   datetime    17379 non-null  datetime64[ns]\n",
      " 1   season      17379 non-null  int64         \n",
      " 2   holiday     17379 non-null  int64         \n",
      " 3   workingday  17379 non-null  int64         \n",
      " 4   weather     17379 non-null  int64         \n",
      " 5   temp        17379 non-null  float64       \n",
      " 6   atemp       17379 non-null  float64       \n",
      " 7   humidity    17379 non-null  int64         \n",
      " 8   windspeed   17379 non-null  float64       \n",
      " 9   casual      17379 non-null  int64         \n",
      " 10  registered  17379 non-null  int64         \n",
      " 11  count       17379 non-null  int64         \n",
      "dtypes: datetime64[ns](1), float64(3), int64(8)\n",
      "memory usage: 1.6 MB\n"
     ]
    }
   ],
   "source": [
    "df.info()"
   ]
  },
  {
   "cell_type": "code",
   "execution_count": 118,
   "id": "dc6ecb56",
   "metadata": {},
   "outputs": [
    {
     "data": {
      "text/html": [
       "<div>\n",
       "<style scoped>\n",
       "    .dataframe tbody tr th:only-of-type {\n",
       "        vertical-align: middle;\n",
       "    }\n",
       "\n",
       "    .dataframe tbody tr th {\n",
       "        vertical-align: top;\n",
       "    }\n",
       "\n",
       "    .dataframe thead th {\n",
       "        text-align: right;\n",
       "    }\n",
       "</style>\n",
       "<table border=\"1\" class=\"dataframe\">\n",
       "  <thead>\n",
       "    <tr style=\"text-align: right;\">\n",
       "      <th></th>\n",
       "      <th>season</th>\n",
       "      <th>holiday</th>\n",
       "      <th>workingday</th>\n",
       "      <th>weather</th>\n",
       "      <th>temp</th>\n",
       "      <th>atemp</th>\n",
       "      <th>humidity</th>\n",
       "      <th>windspeed</th>\n",
       "      <th>casual</th>\n",
       "      <th>registered</th>\n",
       "      <th>count</th>\n",
       "    </tr>\n",
       "  </thead>\n",
       "  <tbody>\n",
       "    <tr>\n",
       "      <th>count</th>\n",
       "      <td>17379.000000</td>\n",
       "      <td>17379.000000</td>\n",
       "      <td>17379.000000</td>\n",
       "      <td>17379.000000</td>\n",
       "      <td>17379.000000</td>\n",
       "      <td>17379.000000</td>\n",
       "      <td>17379.000000</td>\n",
       "      <td>17379.000000</td>\n",
       "      <td>17379.000000</td>\n",
       "      <td>17379.000000</td>\n",
       "      <td>17379.000000</td>\n",
       "    </tr>\n",
       "    <tr>\n",
       "      <th>mean</th>\n",
       "      <td>2.501640</td>\n",
       "      <td>0.028770</td>\n",
       "      <td>0.682721</td>\n",
       "      <td>1.425283</td>\n",
       "      <td>20.376474</td>\n",
       "      <td>23.788755</td>\n",
       "      <td>62.722884</td>\n",
       "      <td>12.736540</td>\n",
       "      <td>34.483745</td>\n",
       "      <td>152.534035</td>\n",
       "      <td>187.017780</td>\n",
       "    </tr>\n",
       "    <tr>\n",
       "      <th>std</th>\n",
       "      <td>1.106918</td>\n",
       "      <td>0.167165</td>\n",
       "      <td>0.465431</td>\n",
       "      <td>0.639357</td>\n",
       "      <td>7.894801</td>\n",
       "      <td>8.592511</td>\n",
       "      <td>19.292983</td>\n",
       "      <td>8.196795</td>\n",
       "      <td>47.309050</td>\n",
       "      <td>147.946712</td>\n",
       "      <td>176.747895</td>\n",
       "    </tr>\n",
       "    <tr>\n",
       "      <th>min</th>\n",
       "      <td>1.000000</td>\n",
       "      <td>0.000000</td>\n",
       "      <td>0.000000</td>\n",
       "      <td>1.000000</td>\n",
       "      <td>0.820000</td>\n",
       "      <td>0.000000</td>\n",
       "      <td>0.000000</td>\n",
       "      <td>0.000000</td>\n",
       "      <td>0.000000</td>\n",
       "      <td>0.000000</td>\n",
       "      <td>1.000000</td>\n",
       "    </tr>\n",
       "    <tr>\n",
       "      <th>25%</th>\n",
       "      <td>2.000000</td>\n",
       "      <td>0.000000</td>\n",
       "      <td>0.000000</td>\n",
       "      <td>1.000000</td>\n",
       "      <td>13.940000</td>\n",
       "      <td>16.665000</td>\n",
       "      <td>48.000000</td>\n",
       "      <td>7.001500</td>\n",
       "      <td>4.000000</td>\n",
       "      <td>36.000000</td>\n",
       "      <td>42.000000</td>\n",
       "    </tr>\n",
       "    <tr>\n",
       "      <th>50%</th>\n",
       "      <td>3.000000</td>\n",
       "      <td>0.000000</td>\n",
       "      <td>1.000000</td>\n",
       "      <td>1.000000</td>\n",
       "      <td>20.500000</td>\n",
       "      <td>24.240000</td>\n",
       "      <td>63.000000</td>\n",
       "      <td>12.998000</td>\n",
       "      <td>16.000000</td>\n",
       "      <td>116.000000</td>\n",
       "      <td>141.000000</td>\n",
       "    </tr>\n",
       "    <tr>\n",
       "      <th>75%</th>\n",
       "      <td>3.000000</td>\n",
       "      <td>0.000000</td>\n",
       "      <td>1.000000</td>\n",
       "      <td>2.000000</td>\n",
       "      <td>27.060000</td>\n",
       "      <td>31.060000</td>\n",
       "      <td>78.000000</td>\n",
       "      <td>16.997900</td>\n",
       "      <td>46.000000</td>\n",
       "      <td>217.000000</td>\n",
       "      <td>277.000000</td>\n",
       "    </tr>\n",
       "    <tr>\n",
       "      <th>max</th>\n",
       "      <td>4.000000</td>\n",
       "      <td>1.000000</td>\n",
       "      <td>1.000000</td>\n",
       "      <td>4.000000</td>\n",
       "      <td>41.000000</td>\n",
       "      <td>50.000000</td>\n",
       "      <td>100.000000</td>\n",
       "      <td>56.996900</td>\n",
       "      <td>367.000000</td>\n",
       "      <td>886.000000</td>\n",
       "      <td>977.000000</td>\n",
       "    </tr>\n",
       "  </tbody>\n",
       "</table>\n",
       "</div>"
      ],
      "text/plain": [
       "             season       holiday    workingday       weather          temp  \\\n",
       "count  17379.000000  17379.000000  17379.000000  17379.000000  17379.000000   \n",
       "mean       2.501640      0.028770      0.682721      1.425283     20.376474   \n",
       "std        1.106918      0.167165      0.465431      0.639357      7.894801   \n",
       "min        1.000000      0.000000      0.000000      1.000000      0.820000   \n",
       "25%        2.000000      0.000000      0.000000      1.000000     13.940000   \n",
       "50%        3.000000      0.000000      1.000000      1.000000     20.500000   \n",
       "75%        3.000000      0.000000      1.000000      2.000000     27.060000   \n",
       "max        4.000000      1.000000      1.000000      4.000000     41.000000   \n",
       "\n",
       "              atemp      humidity     windspeed        casual    registered  \\\n",
       "count  17379.000000  17379.000000  17379.000000  17379.000000  17379.000000   \n",
       "mean      23.788755     62.722884     12.736540     34.483745    152.534035   \n",
       "std        8.592511     19.292983      8.196795     47.309050    147.946712   \n",
       "min        0.000000      0.000000      0.000000      0.000000      0.000000   \n",
       "25%       16.665000     48.000000      7.001500      4.000000     36.000000   \n",
       "50%       24.240000     63.000000     12.998000     16.000000    116.000000   \n",
       "75%       31.060000     78.000000     16.997900     46.000000    217.000000   \n",
       "max       50.000000    100.000000     56.996900    367.000000    886.000000   \n",
       "\n",
       "              count  \n",
       "count  17379.000000  \n",
       "mean     187.017780  \n",
       "std      176.747895  \n",
       "min        1.000000  \n",
       "25%       42.000000  \n",
       "50%      141.000000  \n",
       "75%      277.000000  \n",
       "max      977.000000  "
      ]
     },
     "execution_count": 118,
     "metadata": {},
     "output_type": "execute_result"
    }
   ],
   "source": [
    "df.describe()"
   ]
  },
  {
   "cell_type": "code",
   "execution_count": 128,
   "id": "ea56ff11",
   "metadata": {},
   "outputs": [
    {
     "data": {
      "text/plain": [
       "season    4\n",
       "dtype: int64"
      ]
     },
     "execution_count": 128,
     "metadata": {},
     "output_type": "execute_result"
    }
   ],
   "source": [
    "df[[\"season\"]].nunique()"
   ]
  },
  {
   "cell_type": "code",
   "execution_count": 125,
   "id": "61ae7108",
   "metadata": {},
   "outputs": [
    {
     "data": {
      "text/plain": [
       "weather    4\n",
       "dtype: int64"
      ]
     },
     "execution_count": 125,
     "metadata": {},
     "output_type": "execute_result"
    }
   ],
   "source": [
    "df[[\"weather\"]].nunique()"
   ]
  },
  {
   "cell_type": "code",
   "execution_count": 131,
   "id": "b998d0ea",
   "metadata": {},
   "outputs": [
    {
     "data": {
      "text/plain": [
       "array([1, 2, 3, 4])"
      ]
     },
     "execution_count": 131,
     "metadata": {},
     "output_type": "execute_result"
    }
   ],
   "source": [
    "df[\"weather\"].unique()"
   ]
  },
  {
   "cell_type": "code",
   "execution_count": 1,
   "id": "5c74de1d",
   "metadata": {},
   "outputs": [],
   "source": [
    "#15th Sept"
   ]
  },
  {
   "cell_type": "code",
   "execution_count": 2,
   "id": "b20271ce",
   "metadata": {},
   "outputs": [],
   "source": [
    "#1. Write a function to reverse a string."
   ]
  },
  {
   "cell_type": "code",
   "execution_count": 5,
   "id": "6d1f6962",
   "metadata": {},
   "outputs": [],
   "source": [
    "def rev_str(s):\n",
    "    return s[::-1]"
   ]
  },
  {
   "cell_type": "code",
   "execution_count": 8,
   "id": "9f580607",
   "metadata": {},
   "outputs": [
    {
     "data": {
      "text/plain": [
       "'natehc'"
      ]
     },
     "execution_count": 8,
     "metadata": {},
     "output_type": "execute_result"
    }
   ],
   "source": [
    "rev_str(\"chetan\")"
   ]
  },
  {
   "cell_type": "code",
   "execution_count": 9,
   "id": "b602e60c",
   "metadata": {},
   "outputs": [],
   "source": [
    "#2. Write a function to check if a string is a palindrome."
   ]
  },
  {
   "cell_type": "code",
   "execution_count": 12,
   "id": "4332d3e6",
   "metadata": {},
   "outputs": [],
   "source": [
    "def is_palindrome(s):\n",
    "    return s==s[::-1]"
   ]
  },
  {
   "cell_type": "code",
   "execution_count": 13,
   "id": "31e65874",
   "metadata": {},
   "outputs": [
    {
     "data": {
      "text/plain": [
       "False"
      ]
     },
     "execution_count": 13,
     "metadata": {},
     "output_type": "execute_result"
    }
   ],
   "source": [
    "is_palindrome(\"chetan\")"
   ]
  },
  {
   "cell_type": "code",
   "execution_count": 14,
   "id": "698cebc8",
   "metadata": {},
   "outputs": [],
   "source": [
    "#3. Return the most frequent element from a list."
   ]
  },
  {
   "cell_type": "code",
   "execution_count": 16,
   "id": "46140fd8",
   "metadata": {},
   "outputs": [],
   "source": [
    "from collections import Counter\n",
    "\n",
    "def mostf(num):\n",
    "    return Counter(num).most_common(1)[0][0]"
   ]
  },
  {
   "cell_type": "code",
   "execution_count": 23,
   "id": "ce9b3c5e",
   "metadata": {},
   "outputs": [
    {
     "name": "stdout",
     "output_type": "stream",
     "text": [
      "4\n"
     ]
    }
   ],
   "source": [
    "print(mostf([1,2,3,4,4,5]))"
   ]
  },
  {
   "cell_type": "code",
   "execution_count": 24,
   "id": "8a77aea5",
   "metadata": {},
   "outputs": [],
   "source": [
    "#4. Generate the Fibonacci sequence up to n terms."
   ]
  },
  {
   "cell_type": "code",
   "execution_count": 34,
   "id": "aad77a3d",
   "metadata": {},
   "outputs": [
    {
     "name": "stdout",
     "output_type": "stream",
     "text": [
      "Enter number of terms: 7\n",
      "[0, 1, 1, 2, 3, 5, 8]\n"
     ]
    }
   ],
   "source": [
    "def fib_ser(n):\n",
    "    fib = [0,1]\n",
    "    for i in range(2,n):\n",
    "        next_term = fib[-1] + fib[-2]\n",
    "        fib.append(next_term)\n",
    "    return fib[:n]\n",
    "        \n",
    "n = int(input(\"Enter number of terms: \"))\n",
    "print(fib_ser(n))        "
   ]
  },
  {
   "cell_type": "code",
   "execution_count": 35,
   "id": "55b35dea",
   "metadata": {},
   "outputs": [],
   "source": [
    "#5. Write a function to find all duplicate elements in a list."
   ]
  },
  {
   "cell_type": "code",
   "execution_count": 47,
   "id": "8b5489b2",
   "metadata": {},
   "outputs": [],
   "source": [
    "def dupli(lst):\n",
    "    duplicates = []\n",
    "    for i in lst:\n",
    "        if lst.count(i) > 1 and i not in duplicates:\n",
    "            duplicates.append(i)\n",
    "    print(duplicates)"
   ]
  },
  {
   "cell_type": "code",
   "execution_count": 48,
   "id": "851508d5",
   "metadata": {},
   "outputs": [
    {
     "name": "stdout",
     "output_type": "stream",
     "text": [
      "[1, 2]\n"
     ]
    }
   ],
   "source": [
    "dupli([1, 1, 2, 3, 4, 2, 5, 1])"
   ]
  },
  {
   "cell_type": "code",
   "execution_count": null,
   "id": "53b727ea",
   "metadata": {},
   "outputs": [],
   "source": []
  }
 ],
 "metadata": {
  "kernelspec": {
   "display_name": "Python 3 (ipykernel)",
   "language": "python",
   "name": "python3"
  },
  "language_info": {
   "codemirror_mode": {
    "name": "ipython",
    "version": 3
   },
   "file_extension": ".py",
   "mimetype": "text/x-python",
   "name": "python",
   "nbconvert_exporter": "python",
   "pygments_lexer": "ipython3",
   "version": "3.9.13"
  }
 },
 "nbformat": 4,
 "nbformat_minor": 5
}
