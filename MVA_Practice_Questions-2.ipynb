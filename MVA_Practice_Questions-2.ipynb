{
 "cells": [
  {
   "cell_type": "markdown",
   "id": "788d3c52",
   "metadata": {},
   "source": [
    "# Q5. Multiple Linear Regression"
   ]
  },
  {
   "cell_type": "code",
   "execution_count": 2,
   "id": "1bd27e89",
   "metadata": {},
   "outputs": [],
   "source": [
    "import pandas as pd\n",
    "import numpy as np\n",
    "import seaborn as sns\n",
    "import matplotlib.pyplot as plt\n",
    "from sklearn.model_selection import train_test_split\n",
    "from sklearn.linear_model import LinearRegression\n",
    "from sklearn import metrics\n",
    "import statsmodels.api as sm"
   ]
  },
  {
   "cell_type": "code",
   "execution_count": 5,
   "id": "3393380e",
   "metadata": {},
   "outputs": [],
   "source": [
    "df = pd.read_excel(\"~chetandeshpande/downloads/MLR_data.xlsx\")"
   ]
  },
  {
   "cell_type": "code",
   "execution_count": 6,
   "id": "8164350c",
   "metadata": {},
   "outputs": [
    {
     "data": {
      "text/html": [
       "<div>\n",
       "<style scoped>\n",
       "    .dataframe tbody tr th:only-of-type {\n",
       "        vertical-align: middle;\n",
       "    }\n",
       "\n",
       "    .dataframe tbody tr th {\n",
       "        vertical-align: top;\n",
       "    }\n",
       "\n",
       "    .dataframe thead th {\n",
       "        text-align: right;\n",
       "    }\n",
       "</style>\n",
       "<table border=\"1\" class=\"dataframe\">\n",
       "  <thead>\n",
       "    <tr style=\"text-align: right;\">\n",
       "      <th></th>\n",
       "      <th>X1</th>\n",
       "      <th>X2</th>\n",
       "      <th>Y</th>\n",
       "    </tr>\n",
       "  </thead>\n",
       "  <tbody>\n",
       "    <tr>\n",
       "      <th>0</th>\n",
       "      <td>15.31</td>\n",
       "      <td>57.3</td>\n",
       "      <td>74.8</td>\n",
       "    </tr>\n",
       "    <tr>\n",
       "      <th>1</th>\n",
       "      <td>15.20</td>\n",
       "      <td>63.8</td>\n",
       "      <td>74.0</td>\n",
       "    </tr>\n",
       "    <tr>\n",
       "      <th>2</th>\n",
       "      <td>16.25</td>\n",
       "      <td>65.4</td>\n",
       "      <td>72.9</td>\n",
       "    </tr>\n",
       "    <tr>\n",
       "      <th>3</th>\n",
       "      <td>14.33</td>\n",
       "      <td>57.0</td>\n",
       "      <td>70.0</td>\n",
       "    </tr>\n",
       "    <tr>\n",
       "      <th>4</th>\n",
       "      <td>14.57</td>\n",
       "      <td>63.8</td>\n",
       "      <td>74.9</td>\n",
       "    </tr>\n",
       "  </tbody>\n",
       "</table>\n",
       "</div>"
      ],
      "text/plain": [
       "      X1    X2     Y\n",
       "0  15.31  57.3  74.8\n",
       "1  15.20  63.8  74.0\n",
       "2  16.25  65.4  72.9\n",
       "3  14.33  57.0  70.0\n",
       "4  14.57  63.8  74.9"
      ]
     },
     "execution_count": 6,
     "metadata": {},
     "output_type": "execute_result"
    }
   ],
   "source": [
    "df.head()"
   ]
  },
  {
   "cell_type": "code",
   "execution_count": 7,
   "id": "6a30d1eb",
   "metadata": {},
   "outputs": [
    {
     "name": "stdout",
     "output_type": "stream",
     "text": [
      "<class 'pandas.core.frame.DataFrame'>\n",
      "RangeIndex: 20 entries, 0 to 19\n",
      "Data columns (total 3 columns):\n",
      " #   Column  Non-Null Count  Dtype  \n",
      "---  ------  --------------  -----  \n",
      " 0   X1      20 non-null     float64\n",
      " 1   X2      20 non-null     float64\n",
      " 2   Y       20 non-null     float64\n",
      "dtypes: float64(3)\n",
      "memory usage: 608.0 bytes\n"
     ]
    }
   ],
   "source": [
    "df.info()"
   ]
  },
  {
   "cell_type": "code",
   "execution_count": 8,
   "id": "f8f0b15f",
   "metadata": {},
   "outputs": [],
   "source": [
    "X = df[['X1','X2']]\n",
    "y = df['Y']"
   ]
  },
  {
   "cell_type": "code",
   "execution_count": 11,
   "id": "685a6479",
   "metadata": {},
   "outputs": [],
   "source": [
    "X = sm.add_constant(X)"
   ]
  },
  {
   "cell_type": "code",
   "execution_count": 12,
   "id": "aa3cac74",
   "metadata": {},
   "outputs": [],
   "source": [
    "model = sm.OLS(y, X).fit()"
   ]
  },
  {
   "cell_type": "code",
   "execution_count": 13,
   "id": "5c60163a",
   "metadata": {},
   "outputs": [
    {
     "name": "stdout",
     "output_type": "stream",
     "text": [
      "                            OLS Regression Results                            \n",
      "==============================================================================\n",
      "Dep. Variable:                      Y   R-squared:                       0.847\n",
      "Model:                            OLS   Adj. R-squared:                  0.829\n",
      "Method:                 Least Squares   F-statistic:                     46.99\n",
      "Date:                Wed, 07 May 2025   Prob (F-statistic):           1.19e-07\n",
      "Time:                        20:54:59   Log-Likelihood:                -50.526\n",
      "No. Observations:                  20   AIC:                             107.1\n",
      "Df Residuals:                      17   BIC:                             110.0\n",
      "Df Model:                           2                                         \n",
      "Covariance Type:            nonrobust                                         \n",
      "==============================================================================\n",
      "                 coef    std err          t      P>|t|      [0.025      0.975]\n",
      "------------------------------------------------------------------------------\n",
      "const         33.1094      7.253      4.565      0.000      17.808      48.411\n",
      "X1             2.8079      0.642      4.373      0.000       1.453       4.162\n",
      "X2            -0.0351      0.238     -0.148      0.884      -0.536       0.466\n",
      "==============================================================================\n",
      "Omnibus:                        0.002   Durbin-Watson:                   2.449\n",
      "Prob(Omnibus):                  0.999   Jarque-Bera (JB):                0.143\n",
      "Skew:                          -0.009   Prob(JB):                        0.931\n",
      "Kurtosis:                       2.587   Cond. No.                         647.\n",
      "==============================================================================\n",
      "\n",
      "Notes:\n",
      "[1] Standard Errors assume that the covariance matrix of the errors is correctly specified.\n"
     ]
    }
   ],
   "source": [
    "print(model.summary())"
   ]
  },
  {
   "cell_type": "code",
   "execution_count": 14,
   "id": "a7372673",
   "metadata": {},
   "outputs": [],
   "source": [
    "# R-Squared = 0.847"
   ]
  },
  {
   "cell_type": "code",
   "execution_count": 19,
   "id": "bf5771d9",
   "metadata": {},
   "outputs": [
    {
     "name": "stdout",
     "output_type": "stream",
     "text": [
      "RMSE: 3.026422801154147\n"
     ]
    }
   ],
   "source": [
    "from sklearn.metrics import mean_squared_error\n",
    "\n",
    "y_pred = model.predict(X) \n",
    "rmse = np.sqrt(mean_squared_error(y, y_pred))  \n",
    "print(\"RMSE:\", rmse)"
   ]
  },
  {
   "cell_type": "code",
   "execution_count": 20,
   "id": "3df35bc7",
   "metadata": {},
   "outputs": [],
   "source": [
    "# RMSE = 3.0264"
   ]
  },
  {
   "cell_type": "code",
   "execution_count": 21,
   "id": "50e386d1",
   "metadata": {},
   "outputs": [],
   "source": [
    "# The F-statistic and test statistical significance at α = 0.05"
   ]
  },
  {
   "cell_type": "code",
   "execution_count": 22,
   "id": "f16ece7c",
   "metadata": {},
   "outputs": [
    {
     "name": "stdout",
     "output_type": "stream",
     "text": [
      "F-statistic: 46.98986914191224\n",
      "p-value for F-statistic: 1.1864362651573306e-07\n",
      "Reject H0: Model is statistically significant at α = 0.05\n"
     ]
    }
   ],
   "source": [
    "f_stat = model.fvalue\n",
    "f_pval = model.f_pvalue\n",
    "\n",
    "# Print the results\n",
    "print(\"F-statistic:\", f_stat)\n",
    "print(\"p-value for F-statistic:\", f_pval)\n",
    "\n",
    "# Test significance at α = 0.05\n",
    "alpha = 0.05\n",
    "if f_pval < alpha:\n",
    "    print(\"Reject H0: Model is statistically significant at α = 0.05\")\n",
    "else:\n",
    "    print(\"Fail to reject H0: Model is not statistically significant\")"
   ]
  },
  {
   "cell_type": "code",
   "execution_count": 23,
   "id": "14fab1f6",
   "metadata": {},
   "outputs": [],
   "source": [
    "# p-value=0.0000001186≪0.05, model is statistically significant at α = 0.05"
   ]
  },
  {
   "cell_type": "markdown",
   "id": "f503c68b",
   "metadata": {},
   "source": [
    "# Q7. Discriminant Analysis"
   ]
  },
  {
   "cell_type": "code",
   "execution_count": 43,
   "id": "d2a40908",
   "metadata": {},
   "outputs": [],
   "source": [
    "from sklearn.discriminant_analysis import LinearDiscriminantAnalysis\n",
    "from sklearn.model_selection import train_test_split\n",
    "from sklearn.metrics import classification_report, confusion_matrix, accuracy_score"
   ]
  },
  {
   "cell_type": "code",
   "execution_count": 26,
   "id": "9e1ba3f9",
   "metadata": {},
   "outputs": [],
   "source": [
    "data = pd.read_csv(\"~chetandeshpande/downloads/Discriminant_Analysis_Data_Q7.csv\")"
   ]
  },
  {
   "cell_type": "code",
   "execution_count": 27,
   "id": "61653c53",
   "metadata": {},
   "outputs": [
    {
     "data": {
      "text/html": [
       "<div>\n",
       "<style scoped>\n",
       "    .dataframe tbody tr th:only-of-type {\n",
       "        vertical-align: middle;\n",
       "    }\n",
       "\n",
       "    .dataframe tbody tr th {\n",
       "        vertical-align: top;\n",
       "    }\n",
       "\n",
       "    .dataframe thead th {\n",
       "        text-align: right;\n",
       "    }\n",
       "</style>\n",
       "<table border=\"1\" class=\"dataframe\">\n",
       "  <thead>\n",
       "    <tr style=\"text-align: right;\">\n",
       "      <th></th>\n",
       "      <th>Group</th>\n",
       "      <th>GRE</th>\n",
       "      <th>GMAT</th>\n",
       "    </tr>\n",
       "  </thead>\n",
       "  <tbody>\n",
       "    <tr>\n",
       "      <th>0</th>\n",
       "      <td>1</td>\n",
       "      <td>2.96</td>\n",
       "      <td>596</td>\n",
       "    </tr>\n",
       "    <tr>\n",
       "      <th>1</th>\n",
       "      <td>1</td>\n",
       "      <td>3.14</td>\n",
       "      <td>473</td>\n",
       "    </tr>\n",
       "    <tr>\n",
       "      <th>2</th>\n",
       "      <td>1</td>\n",
       "      <td>3.22</td>\n",
       "      <td>482</td>\n",
       "    </tr>\n",
       "    <tr>\n",
       "      <th>3</th>\n",
       "      <td>1</td>\n",
       "      <td>3.29</td>\n",
       "      <td>527</td>\n",
       "    </tr>\n",
       "    <tr>\n",
       "      <th>4</th>\n",
       "      <td>1</td>\n",
       "      <td>3.69</td>\n",
       "      <td>505</td>\n",
       "    </tr>\n",
       "  </tbody>\n",
       "</table>\n",
       "</div>"
      ],
      "text/plain": [
       "   Group   GRE  GMAT\n",
       "0      1  2.96   596\n",
       "1      1  3.14   473\n",
       "2      1  3.22   482\n",
       "3      1  3.29   527\n",
       "4      1  3.69   505"
      ]
     },
     "execution_count": 27,
     "metadata": {},
     "output_type": "execute_result"
    }
   ],
   "source": [
    "data.head()"
   ]
  },
  {
   "cell_type": "code",
   "execution_count": 28,
   "id": "a8fa0575",
   "metadata": {},
   "outputs": [
    {
     "name": "stdout",
     "output_type": "stream",
     "text": [
      "<class 'pandas.core.frame.DataFrame'>\n",
      "RangeIndex: 85 entries, 0 to 84\n",
      "Data columns (total 3 columns):\n",
      " #   Column  Non-Null Count  Dtype  \n",
      "---  ------  --------------  -----  \n",
      " 0   Group   85 non-null     int64  \n",
      " 1   GRE     85 non-null     float64\n",
      " 2   GMAT    85 non-null     int64  \n",
      "dtypes: float64(1), int64(2)\n",
      "memory usage: 2.1 KB\n"
     ]
    }
   ],
   "source": [
    "data.info()"
   ]
  },
  {
   "cell_type": "code",
   "execution_count": 33,
   "id": "34f91963",
   "metadata": {},
   "outputs": [
    {
     "data": {
      "text/plain": [
       "Group     3\n",
       "GRE      67\n",
       "GMAT     72\n",
       "dtype: int64"
      ]
     },
     "execution_count": 33,
     "metadata": {},
     "output_type": "execute_result"
    }
   ],
   "source": [
    "data.nunique()"
   ]
  },
  {
   "cell_type": "code",
   "execution_count": 59,
   "id": "3054f14f",
   "metadata": {},
   "outputs": [],
   "source": [
    "# i) Data Splitting"
   ]
  },
  {
   "cell_type": "code",
   "execution_count": 39,
   "id": "6d4359a7",
   "metadata": {},
   "outputs": [],
   "source": [
    "X = data[['GRE', 'GMAT']]  \n",
    "y = data['Group'] "
   ]
  },
  {
   "cell_type": "code",
   "execution_count": 40,
   "id": "8de6c9c1",
   "metadata": {},
   "outputs": [],
   "source": [
    "X_train, X_test, y_train, y_test = train_test_split(X, y, test_size=0.2, random_state=42)"
   ]
  },
  {
   "cell_type": "code",
   "execution_count": 41,
   "id": "64d77168",
   "metadata": {},
   "outputs": [
    {
     "name": "stdout",
     "output_type": "stream",
     "text": [
      "Training set size: 68\n",
      "Testing set size: 17\n"
     ]
    }
   ],
   "source": [
    "print(\"Training set size:\", X_train.shape[0])\n",
    "print(\"Testing set size:\", X_test.shape[0])"
   ]
  },
  {
   "cell_type": "code",
   "execution_count": 42,
   "id": "b0adf9dc",
   "metadata": {},
   "outputs": [
    {
     "data": {
      "text/plain": [
       "(85, 3)"
      ]
     },
     "execution_count": 42,
     "metadata": {},
     "output_type": "execute_result"
    }
   ],
   "source": [
    "data.shape"
   ]
  },
  {
   "cell_type": "code",
   "execution_count": 60,
   "id": "6dca830f",
   "metadata": {},
   "outputs": [],
   "source": [
    "# (ii) Linear Discriminant Analysis (LDA)"
   ]
  },
  {
   "cell_type": "code",
   "execution_count": 44,
   "id": "5a01395d",
   "metadata": {},
   "outputs": [
    {
     "data": {
      "text/plain": [
       "LinearDiscriminantAnalysis()"
      ]
     },
     "execution_count": 44,
     "metadata": {},
     "output_type": "execute_result"
    }
   ],
   "source": [
    "lda = LinearDiscriminantAnalysis()\n",
    "lda.fit(X_train, y_train)"
   ]
  },
  {
   "cell_type": "code",
   "execution_count": 45,
   "id": "95f1746f",
   "metadata": {},
   "outputs": [],
   "source": [
    "y_pred_lda = lda.predict(X_test)"
   ]
  },
  {
   "cell_type": "code",
   "execution_count": 61,
   "id": "1c7201a1",
   "metadata": {},
   "outputs": [],
   "source": [
    "# (iii) Confusion Matrix and determine the Accuracy"
   ]
  },
  {
   "cell_type": "code",
   "execution_count": 46,
   "id": "526618ad",
   "metadata": {},
   "outputs": [
    {
     "name": "stdout",
     "output_type": "stream",
     "text": [
      "LDA Confusion Matrix:\n",
      "[[6 0 0]\n",
      " [0 6 0]\n",
      " [0 0 5]]\n"
     ]
    }
   ],
   "source": [
    "print(\"LDA Confusion Matrix:\")\n",
    "print(confusion_matrix(y_test, y_pred_lda))"
   ]
  },
  {
   "cell_type": "code",
   "execution_count": 47,
   "id": "0d0c09a7",
   "metadata": {},
   "outputs": [
    {
     "name": "stdout",
     "output_type": "stream",
     "text": [
      "\n",
      "LDA Classification Report:\n",
      "              precision    recall  f1-score   support\n",
      "\n",
      "           1       1.00      1.00      1.00         6\n",
      "           2       1.00      1.00      1.00         6\n",
      "           3       1.00      1.00      1.00         5\n",
      "\n",
      "    accuracy                           1.00        17\n",
      "   macro avg       1.00      1.00      1.00        17\n",
      "weighted avg       1.00      1.00      1.00        17\n",
      "\n"
     ]
    }
   ],
   "source": [
    "print(\"\\nLDA Classification Report:\")\n",
    "print(classification_report(y_test, y_pred_lda))"
   ]
  },
  {
   "cell_type": "code",
   "execution_count": 49,
   "id": "a01e0575",
   "metadata": {},
   "outputs": [
    {
     "name": "stdout",
     "output_type": "stream",
     "text": [
      "LDA Accuracy: 1.0\n"
     ]
    }
   ],
   "source": [
    "print(\"LDA Accuracy:\", accuracy_score(y_test, y_pred_lda))"
   ]
  },
  {
   "cell_type": "code",
   "execution_count": 62,
   "id": "352ee846",
   "metadata": {},
   "outputs": [],
   "source": [
    "# (iv) Quadratic Discriminant Analysis (QDA)"
   ]
  },
  {
   "cell_type": "code",
   "execution_count": 52,
   "id": "674b9d47",
   "metadata": {},
   "outputs": [],
   "source": [
    "from sklearn.discriminant_analysis import QuadraticDiscriminantAnalysis"
   ]
  },
  {
   "cell_type": "code",
   "execution_count": 53,
   "id": "fcba5187",
   "metadata": {},
   "outputs": [
    {
     "data": {
      "text/plain": [
       "QuadraticDiscriminantAnalysis()"
      ]
     },
     "execution_count": 53,
     "metadata": {},
     "output_type": "execute_result"
    }
   ],
   "source": [
    "qda = QuadraticDiscriminantAnalysis()\n",
    "qda.fit(X_train, y_train)"
   ]
  },
  {
   "cell_type": "code",
   "execution_count": 54,
   "id": "83e10f5d",
   "metadata": {},
   "outputs": [],
   "source": [
    "y_pred_qda = qda.predict(X_test)"
   ]
  },
  {
   "cell_type": "code",
   "execution_count": 55,
   "id": "2bd905c4",
   "metadata": {},
   "outputs": [
    {
     "name": "stdout",
     "output_type": "stream",
     "text": [
      "QDA Confusion Matrix:\n",
      " [[6 0 0]\n",
      " [0 6 0]\n",
      " [0 0 5]]\n"
     ]
    }
   ],
   "source": [
    "cm_qda = confusion_matrix(y_test, y_pred_qda)\n",
    "print(\"QDA Confusion Matrix:\\n\", cm_qda)"
   ]
  },
  {
   "cell_type": "code",
   "execution_count": 56,
   "id": "161c257e",
   "metadata": {},
   "outputs": [
    {
     "name": "stdout",
     "output_type": "stream",
     "text": [
      "\n",
      "QDA Accuracy: 1.0\n"
     ]
    }
   ],
   "source": [
    "accuracy_qda = accuracy_score(y_test, y_pred_qda)\n",
    "print(\"\\nQDA Accuracy:\", accuracy_qda)"
   ]
  },
  {
   "cell_type": "code",
   "execution_count": 58,
   "id": "0ac73dcb",
   "metadata": {},
   "outputs": [
    {
     "name": "stdout",
     "output_type": "stream",
     "text": [
      "\n",
      "QDA Classification Report:\n",
      "                 precision    recall  f1-score   support\n",
      "\n",
      "     Admit (1)       1.00      1.00      1.00         6\n",
      " Not Admit (2)       1.00      1.00      1.00         6\n",
      "Borderline (3)       1.00      1.00      1.00         5\n",
      "\n",
      "      accuracy                           1.00        17\n",
      "     macro avg       1.00      1.00      1.00        17\n",
      "  weighted avg       1.00      1.00      1.00        17\n",
      "\n"
     ]
    }
   ],
   "source": [
    "report_qda = classification_report(y_test, y_pred_qda, target_names=[\"Admit (1)\", \"Not Admit (2)\", \"Borderline (3)\"])\n",
    "print(\"\\nQDA Classification Report:\\n\", report_qda)"
   ]
  },
  {
   "cell_type": "code",
   "execution_count": 1,
   "id": "fa357abe",
   "metadata": {},
   "outputs": [],
   "source": [
    "# Daily Interview Practice"
   ]
  },
  {
   "cell_type": "code",
   "execution_count": 103,
   "id": "4cb6031a",
   "metadata": {},
   "outputs": [],
   "source": [
    "# 2nd Sept, 2025"
   ]
  },
  {
   "cell_type": "code",
   "execution_count": 4,
   "id": "f6073a48",
   "metadata": {},
   "outputs": [],
   "source": [
    "# Array Basics (Python List)\n",
    "# 👉 Create a list of numbers from 1 to 10. Print only the even numbers using a loop."
   ]
  },
  {
   "cell_type": "code",
   "execution_count": 5,
   "id": "eb4cb974",
   "metadata": {},
   "outputs": [
    {
     "name": "stdout",
     "output_type": "stream",
     "text": [
      "0\n",
      "2\n",
      "4\n",
      "6\n",
      "8\n"
     ]
    }
   ],
   "source": [
    "a = range(10)\n",
    "for i in a:\n",
    "    if i%2 == 0:\n",
    "        print(i)"
   ]
  },
  {
   "cell_type": "code",
   "execution_count": 6,
   "id": "51e6f78d",
   "metadata": {},
   "outputs": [],
   "source": [
    "# NumPy Array Creation\n",
    "# 👉 Create a NumPy array with values from 0 to 20 in steps of 2."
   ]
  },
  {
   "cell_type": "code",
   "execution_count": 11,
   "id": "63095ad5",
   "metadata": {},
   "outputs": [
    {
     "name": "stdout",
     "output_type": "stream",
     "text": [
      "[ 0  2  4  6  8 10 12 14 16 18 20] "
     ]
    }
   ],
   "source": [
    "x = np.arange(0,21,2)\n",
    "print(x, end=\" \")"
   ]
  },
  {
   "cell_type": "code",
   "execution_count": 12,
   "id": "dd2d9a53",
   "metadata": {},
   "outputs": [],
   "source": [
    "# Array Statistics\n",
    "# 👉 Generate a NumPy array of 100 random numbers between 0 and 1. Print its mean, median, and standard deviation."
   ]
  },
  {
   "cell_type": "code",
   "execution_count": 19,
   "id": "46e9a1dc",
   "metadata": {},
   "outputs": [
    {
     "name": "stdout",
     "output_type": "stream",
     "text": [
      "The mean of y is 0.49921353379448674\n",
      "The median of y is 0.49948760577656587\n",
      "The SD of y is 0.28528815270327573\n"
     ]
    }
   ],
   "source": [
    "y = np.random.rand(100)\n",
    "print(\"The mean of y is\", np.mean(y))\n",
    "print(\"The median of y is\", np.median(y))\n",
    "print(\"The SD of y is\", np.std(y))"
   ]
  },
  {
   "cell_type": "code",
   "execution_count": 20,
   "id": "b500a16e",
   "metadata": {},
   "outputs": [],
   "source": [
    "# Loop with NumPy\n",
    "# 👉 Write a loop to calculate the sum of squares of numbers in a NumPy array [1, 2, 3, 4, 5].\n",
    "# Expected Output: 55."
   ]
  },
  {
   "cell_type": "code",
   "execution_count": 31,
   "id": "06c15a54",
   "metadata": {},
   "outputs": [
    {
     "name": "stdout",
     "output_type": "stream",
     "text": [
      "1\n",
      "5\n",
      "14\n",
      "30\n",
      "55\n"
     ]
    }
   ],
   "source": [
    "x = [1,2,3,4,5]\n",
    "total = 0\n",
    "for i in x:\n",
    "    total = total+(i**2)\n",
    "    print(total)"
   ]
  },
  {
   "cell_type": "code",
   "execution_count": 32,
   "id": "890ab7ac",
   "metadata": {},
   "outputs": [],
   "source": [
    "# 2D Array Manipulation\n",
    "# 👉 Create a 3x3 NumPy array with numbers 1–9. Extract the first row and the second column."
   ]
  },
  {
   "cell_type": "code",
   "execution_count": 34,
   "id": "470bf640",
   "metadata": {},
   "outputs": [
    {
     "name": "stdout",
     "output_type": "stream",
     "text": [
      "[[1 2 3]\n",
      " [4 5 6]\n",
      " [7 8 9]]\n"
     ]
    }
   ],
   "source": [
    "x = np.arange(1,10).reshape(3,3)\n",
    "print(x)"
   ]
  },
  {
   "cell_type": "code",
   "execution_count": 43,
   "id": "4819ef61",
   "metadata": {},
   "outputs": [
    {
     "data": {
      "text/plain": [
       "array([1, 2, 3])"
      ]
     },
     "execution_count": 43,
     "metadata": {},
     "output_type": "execute_result"
    }
   ],
   "source": [
    "x[0,:]"
   ]
  },
  {
   "cell_type": "code",
   "execution_count": 44,
   "id": "92037635",
   "metadata": {},
   "outputs": [
    {
     "data": {
      "text/plain": [
       "array([2, 5, 8])"
      ]
     },
     "execution_count": 44,
     "metadata": {},
     "output_type": "execute_result"
    }
   ],
   "source": [
    "x[:,1]"
   ]
  },
  {
   "cell_type": "code",
   "execution_count": 47,
   "id": "172615d9",
   "metadata": {},
   "outputs": [
    {
     "data": {
      "text/plain": [
       "array([7, 8, 9])"
      ]
     },
     "execution_count": 47,
     "metadata": {},
     "output_type": "execute_result"
    }
   ],
   "source": [
    "x[2,:]"
   ]
  },
  {
   "cell_type": "code",
   "execution_count": 49,
   "id": "c4dc21bf",
   "metadata": {},
   "outputs": [
    {
     "data": {
      "text/plain": [
       "array([1, 4, 7])"
      ]
     },
     "execution_count": 49,
     "metadata": {},
     "output_type": "execute_result"
    }
   ],
   "source": [
    "x[:,0]"
   ]
  },
  {
   "cell_type": "code",
   "execution_count": 53,
   "id": "7999c040",
   "metadata": {},
   "outputs": [
    {
     "data": {
      "text/plain": [
       "6"
      ]
     },
     "execution_count": 53,
     "metadata": {},
     "output_type": "execute_result"
    }
   ],
   "source": [
    "x[1,2]"
   ]
  },
  {
   "cell_type": "code",
   "execution_count": 59,
   "id": "dd262d52",
   "metadata": {},
   "outputs": [
    {
     "data": {
      "text/plain": [
       "array([[1, 2],\n",
       "       [4, 5]])"
      ]
     },
     "execution_count": 59,
     "metadata": {},
     "output_type": "execute_result"
    }
   ],
   "source": [
    "x[0:2,0:2]"
   ]
  },
  {
   "cell_type": "code",
   "execution_count": 61,
   "id": "46f3068e",
   "metadata": {},
   "outputs": [
    {
     "data": {
      "text/plain": [
       "array([[5, 6],\n",
       "       [8, 9]])"
      ]
     },
     "execution_count": 61,
     "metadata": {},
     "output_type": "execute_result"
    }
   ],
   "source": [
    "x[1:3,1:3]"
   ]
  },
  {
   "cell_type": "code",
   "execution_count": 62,
   "id": "da24d24e",
   "metadata": {},
   "outputs": [],
   "source": [
    "#Boolean Masking\n",
    "# 👉 From the array [5, 12, 7, 20, 25, 2], select only values greater than 10."
   ]
  },
  {
   "cell_type": "code",
   "execution_count": 79,
   "id": "780796cc",
   "metadata": {},
   "outputs": [
    {
     "name": "stdout",
     "output_type": "stream",
     "text": [
      "[12, 20, 25]\n"
     ]
    }
   ],
   "source": [
    "x = [5, 12, 7, 20, 25, 2]\n",
    "result = []\n",
    "\n",
    "for i in x:\n",
    "    if i > 10:\n",
    "        result.append(i)\n",
    "\n",
    "print(result)"
   ]
  },
  {
   "cell_type": "code",
   "execution_count": 81,
   "id": "4edbe3c7",
   "metadata": {},
   "outputs": [],
   "source": [
    "# Matplotlib Line Plot\n",
    "# 👉 Plot a line graph for y = x^2 where x = [0,1,2,3,4,5]."
   ]
  },
  {
   "cell_type": "code",
   "execution_count": 86,
   "id": "6b9abc5a",
   "metadata": {},
   "outputs": [
    {
     "data": {
      "image/png": "[encoded data removed]",
      "text/plain": [
       "<Figure size 640x480 with 1 Axes>"
      ]
     },
     "metadata": {},
     "output_type": "display_data"
    }
   ],
   "source": [
    "x = np.array([0,1,2,3,4,5])\n",
    "y = x**2\n",
    "\n",
    "plt.plot(x,y)\n",
    "plt.show()"
   ]
  },
  {
   "cell_type": "code",
   "execution_count": 87,
   "id": "66fd375a",
   "metadata": {},
   "outputs": [],
   "source": [
    "# Matplotlib Scatter Plot\n",
    "# 👉 Create a scatter plot of 50 random points (x, y) between 0 and 10."
   ]
  },
  {
   "cell_type": "code",
   "execution_count": 92,
   "id": "d8db480c",
   "metadata": {},
   "outputs": [
    {
     "data": {
      "image/png": "[encoded data removed]",
      "text/plain": [
       "<Figure size 640x480 with 1 Axes>"
      ]
     },
     "metadata": {},
     "output_type": "display_data"
    }
   ],
   "source": [
    "x = np.random.uniform(0,10,50)\n",
    "y = np.random.uniform(0,10,50)\n",
    "\n",
    "plt.scatter(x,y)\n",
    "plt.title(\"Matplotlib Scatter Plot\")\n",
    "plt.xlabel(\"X\")\n",
    "plt.ylabel(\"Y\")\n",
    "plt.show()"
   ]
  },
  {
   "cell_type": "code",
   "execution_count": 93,
   "id": "77cef95c",
   "metadata": {},
   "outputs": [],
   "source": [
    "# Matplotlib Bar Chart\n",
    "# 👉 Create a bar chart showing sales for 5 products: [20, 35, 30, 35, 27]"
   ]
  },
  {
   "cell_type": "code",
   "execution_count": 96,
   "id": "25b3019c",
   "metadata": {},
   "outputs": [
    {
     "data": {
      "image/png": "[encoded data removed]",
      "text/plain": [
       "<Figure size 640x480 with 1 Axes>"
      ]
     },
     "metadata": {},
     "output_type": "display_data"
    }
   ],
   "source": [
    "y = [20,35,30,35,27]\n",
    "x = [1,2,3,4,5]\n",
    "\n",
    "plt.bar(x,y)\n",
    "plt.title(\"Matplotlib Bar Plot\")\n",
    "plt.xlabel(\"X\")\n",
    "plt.ylabel(\"Y\")\n",
    "plt.show()"
   ]
  },
  {
   "cell_type": "code",
   "execution_count": 97,
   "id": "166b6714",
   "metadata": {},
   "outputs": [],
   "source": [
    "# Combine NumPy + Matplotlib\n",
    "# 👉 Generate 100 random values from a normal distribution. Plot their histogram with 10 bins."
   ]
  },
  {
   "cell_type": "code",
   "execution_count": 102,
   "id": "8cde1b61",
   "metadata": {},
   "outputs": [
    {
     "data": {
      "image/png": "[encoded data removed]",
      "text/plain": [
       "<Figure size 640x480 with 1 Axes>"
      ]
     },
     "metadata": {},
     "output_type": "display_data"
    }
   ],
   "source": [
    "y = np.random.randn(100)\n",
    "\n",
    "plt.hist(y, bins = 10)\n",
    "plt.show()"
   ]
  },
  {
   "cell_type": "code",
   "execution_count": 101,
   "id": "7a4309f2",
   "metadata": {},
   "outputs": [
    {
     "data": {
      "text/plain": [
       "array([ 0.93887628,  0.1730863 , -1.89690732, -0.54919122, -1.29269331,\n",
       "        0.24263699, -0.3085707 ,  0.11213895, -0.67599055,  0.31129923,\n",
       "       -1.12117446,  1.12332673, -1.20380907, -1.78622793, -0.61052931,\n",
       "       -0.92288561,  1.29330985, -0.44193675,  1.24165947, -0.0929137 ,\n",
       "        0.49965945, -0.00682786,  0.49966946,  0.11288726, -1.436071  ,\n",
       "        0.19585561, -0.16406483,  1.39212183, -0.88814485,  1.14945882,\n",
       "        1.2783769 , -0.74148877,  0.98692348, -0.37311239,  0.48552184,\n",
       "        1.66139041, -0.98664327, -1.04455343, -0.39193619, -1.16052019,\n",
       "        1.062353  ,  0.10668127, -0.68850569, -0.16443537,  0.03269347,\n",
       "       -0.67749073,  0.68198706,  0.06077894,  0.45340819, -1.82895147,\n",
       "       -1.13775516, -1.66062383, -0.27121408, -1.27159075, -1.18345324,\n",
       "       -0.24503225,  0.51668369,  0.64045636,  0.14418715, -0.95320137,\n",
       "        1.6201259 , -0.07431392, -0.16804402, -0.56480924,  0.49132268,\n",
       "        0.61597017,  0.80209362, -0.78245791, -1.7371841 , -1.82063764,\n",
       "       -0.13129482, -1.98510386, -1.4637048 ,  0.3123343 , -1.01517148,\n",
       "        1.98127028,  0.15941681,  0.43650354, -0.12855743,  0.82163338,\n",
       "       -0.90342441,  0.64847063, -0.51417769, -0.15562188, -1.91421685,\n",
       "       -0.59110044,  0.39174141,  0.48985344, -1.00683905, -1.12677811,\n",
       "       -0.74717654,  0.03737145, -1.08229539, -0.97866959,  0.31765522,\n",
       "        0.38917006, -0.96702241,  1.89280218,  0.43534678,  0.92801193])"
      ]
     },
     "execution_count": 101,
     "metadata": {},
     "output_type": "execute_result"
    }
   ],
   "source": [
    "y"
   ]
  },
  {
   "cell_type": "code",
   "execution_count": 1,
   "id": "79159241",
   "metadata": {},
   "outputs": [],
   "source": [
    "# 4th Sept, 2025"
   ]
  },
  {
   "cell_type": "code",
   "execution_count": 8,
   "id": "59d5a593",
   "metadata": {},
   "outputs": [],
   "source": [
    "import pandas as pd\n",
    "import numpy as np"
   ]
  },
  {
   "cell_type": "code",
   "execution_count": 9,
   "id": "29a2c529",
   "metadata": {},
   "outputs": [],
   "source": [
    "# Read and Inspect Data\n",
    "#👉 Given a CSV file employees.csv, how would you:\n",
    "\n",
    "#Load it into Pandas?\n",
    "\n",
    "#Show first 5 rows?\n",
    "\n",
    "#Check column names and data types?"
   ]
  },
  {
   "cell_type": "code",
   "execution_count": 47,
   "id": "8a4c30af",
   "metadata": {},
   "outputs": [],
   "source": [
    "df = pd.read_csv(\"~chetandeshpande/downloads/employees.csv\")"
   ]
  },
  {
   "cell_type": "code",
   "execution_count": 48,
   "id": "845efd44",
   "metadata": {},
   "outputs": [
    {
     "data": {
      "text/html": [
       "<div>\n",
       "<style scoped>\n",
       "    .dataframe tbody tr th:only-of-type {\n",
       "        vertical-align: middle;\n",
       "    }\n",
       "\n",
       "    .dataframe tbody tr th {\n",
       "        vertical-align: top;\n",
       "    }\n",
       "\n",
       "    .dataframe thead th {\n",
       "        text-align: right;\n",
       "    }\n",
       "</style>\n",
       "<table border=\"1\" class=\"dataframe\">\n",
       "  <thead>\n",
       "    <tr style=\"text-align: right;\">\n",
       "      <th></th>\n",
       "      <th>EmployeeID</th>\n",
       "      <th>Name</th>\n",
       "      <th>Department</th>\n",
       "      <th>Age</th>\n",
       "      <th>Salary</th>\n",
       "      <th>JoiningDate</th>\n",
       "    </tr>\n",
       "  </thead>\n",
       "  <tbody>\n",
       "    <tr>\n",
       "      <th>0</th>\n",
       "      <td>101</td>\n",
       "      <td>Alice</td>\n",
       "      <td>HR</td>\n",
       "      <td>25</td>\n",
       "      <td>48000</td>\n",
       "      <td>2019-03-15</td>\n",
       "    </tr>\n",
       "    <tr>\n",
       "      <th>1</th>\n",
       "      <td>102</td>\n",
       "      <td>Bob</td>\n",
       "      <td>IT</td>\n",
       "      <td>32</td>\n",
       "      <td>60000</td>\n",
       "      <td>2018-07-10</td>\n",
       "    </tr>\n",
       "    <tr>\n",
       "      <th>2</th>\n",
       "      <td>103</td>\n",
       "      <td>Charlie</td>\n",
       "      <td>Finance</td>\n",
       "      <td>45</td>\n",
       "      <td>75000</td>\n",
       "      <td>2015-06-01</td>\n",
       "    </tr>\n",
       "    <tr>\n",
       "      <th>3</th>\n",
       "      <td>104</td>\n",
       "      <td>David</td>\n",
       "      <td>IT</td>\n",
       "      <td>28</td>\n",
       "      <td>52000</td>\n",
       "      <td>2020-01-25</td>\n",
       "    </tr>\n",
       "    <tr>\n",
       "      <th>4</th>\n",
       "      <td>105</td>\n",
       "      <td>Eva</td>\n",
       "      <td>HR</td>\n",
       "      <td>29</td>\n",
       "      <td>49000</td>\n",
       "      <td>2019-11-12</td>\n",
       "    </tr>\n",
       "  </tbody>\n",
       "</table>\n",
       "</div>"
      ],
      "text/plain": [
       "   EmployeeID     Name Department  Age  Salary JoiningDate\n",
       "0         101    Alice         HR   25   48000  2019-03-15\n",
       "1         102      Bob         IT   32   60000  2018-07-10\n",
       "2         103  Charlie    Finance   45   75000  2015-06-01\n",
       "3         104    David         IT   28   52000  2020-01-25\n",
       "4         105      Eva         HR   29   49000  2019-11-12"
      ]
     },
     "execution_count": 48,
     "metadata": {},
     "output_type": "execute_result"
    }
   ],
   "source": [
    "df.head()"
   ]
  },
  {
   "cell_type": "code",
   "execution_count": 49,
   "id": "c74d256b",
   "metadata": {},
   "outputs": [
    {
     "data": {
      "text/plain": [
       "Index(['EmployeeID', 'Name', 'Department', 'Age', 'Salary', 'JoiningDate'], dtype='object')"
      ]
     },
     "execution_count": 49,
     "metadata": {},
     "output_type": "execute_result"
    }
   ],
   "source": [
    "df.columns"
   ]
  },
  {
   "cell_type": "code",
   "execution_count": 50,
   "id": "8bc8e210",
   "metadata": {},
   "outputs": [
    {
     "name": "stdout",
     "output_type": "stream",
     "text": [
      "<class 'pandas.core.frame.DataFrame'>\n",
      "RangeIndex: 8 entries, 0 to 7\n",
      "Data columns (total 6 columns):\n",
      " #   Column       Non-Null Count  Dtype \n",
      "---  ------       --------------  ----- \n",
      " 0   EmployeeID   8 non-null      int64 \n",
      " 1   Name         8 non-null      object\n",
      " 2   Department   8 non-null      object\n",
      " 3   Age          8 non-null      int64 \n",
      " 4   Salary       8 non-null      int64 \n",
      " 5   JoiningDate  8 non-null      object\n",
      "dtypes: int64(3), object(3)\n",
      "memory usage: 512.0+ bytes\n"
     ]
    }
   ],
   "source": [
    "df.info()"
   ]
  },
  {
   "cell_type": "code",
   "execution_count": 51,
   "id": "354cd847",
   "metadata": {},
   "outputs": [],
   "source": [
    "# Filtering with Conditions\n",
    "# 👉 From a DataFrame df with columns Age and Salary, select only rows where:\n",
    "\n",
    "# Age > 30 and Salary > 50,000."
   ]
  },
  {
   "cell_type": "code",
   "execution_count": 52,
   "id": "3f240cec",
   "metadata": {},
   "outputs": [
    {
     "name": "stdout",
     "output_type": "stream",
     "text": [
      "0    False\n",
      "1     True\n",
      "2     True\n",
      "3    False\n",
      "4    False\n",
      "dtype: bool\n"
     ]
    }
   ],
   "source": [
    "x = ((df['Age'] > 30) & (df['Salary'] > 50000))\n",
    "print(x.head())"
   ]
  },
  {
   "cell_type": "code",
   "execution_count": 53,
   "id": "f7097a58",
   "metadata": {},
   "outputs": [
    {
     "name": "stdout",
     "output_type": "stream",
     "text": [
      "   EmployeeID     Name Department  Age  Salary JoiningDate\n",
      "1         102      Bob         IT   32   60000  2018-07-10\n",
      "2         103  Charlie    Finance   45   75000  2015-06-01\n",
      "5         106    Frank    Finance   40   68000  2016-09-23\n",
      "6         107    Grace         IT   35   72000  2017-08-14\n",
      "7         108    Helen         HR   50   80000  2010-05-30\n"
     ]
    }
   ],
   "source": [
    "filtered_df = df.query(\"Age > 30 and Salary > 50000\")\n",
    "print(filtered_df)"
   ]
  },
  {
   "cell_type": "code",
   "execution_count": 54,
   "id": "69118855",
   "metadata": {},
   "outputs": [],
   "source": [
    "# Find the total salary per Department.\n",
    "\n",
    "# Find the average age per Department."
   ]
  },
  {
   "cell_type": "code",
   "execution_count": 55,
   "id": "98fe2dac",
   "metadata": {},
   "outputs": [
    {
     "name": "stdout",
     "output_type": "stream",
     "text": [
      "Department\n",
      "Finance    143000\n",
      "HR         177000\n",
      "IT         184000\n",
      "Name: Salary, dtype: int64\n"
     ]
    }
   ],
   "source": [
    "total_salary = df.groupby(\"Department\")[\"Salary\"].sum()\n",
    "print(total_salary)"
   ]
  },
  {
   "cell_type": "code",
   "execution_count": 56,
   "id": "3b18aa9b",
   "metadata": {},
   "outputs": [
    {
     "name": "stdout",
     "output_type": "stream",
     "text": [
      "Department\n",
      "Finance    42.500000\n",
      "HR         34.666667\n",
      "IT         31.666667\n",
      "Name: Age, dtype: float64\n"
     ]
    }
   ],
   "source": [
    "ave_age_per_dept = df.groupby(\"Department\")[\"Age\"].mean()\n",
    "print(ave_age_per_dept)"
   ]
  },
  {
   "cell_type": "code",
   "execution_count": 57,
   "id": "e9d4e8d5",
   "metadata": {},
   "outputs": [],
   "source": [
    "# Missing Values\n",
    "# 👉 How would you:\n",
    "\n",
    "# Find which columns have missing values?"
   ]
  },
  {
   "cell_type": "code",
   "execution_count": 58,
   "id": "8cde9cab",
   "metadata": {},
   "outputs": [
    {
     "data": {
      "text/plain": [
       "EmployeeID     0\n",
       "Name           0\n",
       "Department     0\n",
       "Age            0\n",
       "Salary         0\n",
       "JoiningDate    0\n",
       "dtype: int64"
      ]
     },
     "execution_count": 58,
     "metadata": {},
     "output_type": "execute_result"
    }
   ],
   "source": [
    "df.isnull().sum()"
   ]
  },
  {
   "cell_type": "code",
   "execution_count": 71,
   "id": "46e0e054",
   "metadata": {},
   "outputs": [],
   "source": [
    "# NumPy Arrays\n",
    "\n",
    "# Array Basics\n",
    "# 👉 Create a NumPy array with numbers from 10 to 50 in steps of 5.\n",
    "\n",
    "# Then reshape it into a 3×3 matrix."
   ]
  },
  {
   "cell_type": "code",
   "execution_count": 72,
   "id": "a0daa68f",
   "metadata": {},
   "outputs": [
    {
     "name": "stdout",
     "output_type": "stream",
     "text": [
      "[10 15 20 25 30 35 40 45 50]\n"
     ]
    }
   ],
   "source": [
    "x = np.arange(10,51,5)\n",
    "print(x)"
   ]
  },
  {
   "cell_type": "code",
   "execution_count": 73,
   "id": "87e48a12",
   "metadata": {},
   "outputs": [
    {
     "data": {
      "text/plain": [
       "array([[10, 15, 20],\n",
       "       [25, 30, 35],\n",
       "       [40, 45, 50]])"
      ]
     },
     "execution_count": 73,
     "metadata": {},
     "output_type": "execute_result"
    }
   ],
   "source": [
    "np.reshape(x, (3, 3))"
   ]
  },
  {
   "cell_type": "code",
   "execution_count": 74,
   "id": "35b734f6",
   "metadata": {},
   "outputs": [],
   "source": [
    "# Array Operations\n",
    "# 👉 Given a = np.array([1,2,3,4,5]), compute:\n",
    "\n",
    "# Square of each element.\n",
    "\n",
    "# Mean and standard deviation."
   ]
  },
  {
   "cell_type": "code",
   "execution_count": 75,
   "id": "a7f8c454",
   "metadata": {},
   "outputs": [],
   "source": [
    "a = np.array([1,2,3,4,5])"
   ]
  },
  {
   "cell_type": "code",
   "execution_count": 81,
   "id": "aed33c03",
   "metadata": {},
   "outputs": [
    {
     "data": {
      "text/plain": [
       "array([ 1,  4,  9, 16, 25])"
      ]
     },
     "execution_count": 81,
     "metadata": {},
     "output_type": "execute_result"
    }
   ],
   "source": [
    "b = a**2\n",
    "b"
   ]
  },
  {
   "cell_type": "code",
   "execution_count": 79,
   "id": "f3e11907",
   "metadata": {},
   "outputs": [
    {
     "data": {
      "text/plain": [
       "3.0"
      ]
     },
     "execution_count": 79,
     "metadata": {},
     "output_type": "execute_result"
    }
   ],
   "source": [
    "c = a.mean()\n",
    "c"
   ]
  },
  {
   "cell_type": "code",
   "execution_count": 80,
   "id": "1c1d9e96",
   "metadata": {},
   "outputs": [
    {
     "data": {
      "text/plain": [
       "1.4142135623730951"
      ]
     },
     "execution_count": 80,
     "metadata": {},
     "output_type": "execute_result"
    }
   ],
   "source": [
    "d = a.std()\n",
    "d"
   ]
  },
  {
   "cell_type": "code",
   "execution_count": 82,
   "id": "480e0bce",
   "metadata": {},
   "outputs": [],
   "source": [
    "# Boolean Indexing\n",
    "# 👉 From arr = np.array([5, 12, 7, 20, 25, 2]), select only numbers greater than 10.# "
   ]
  },
  {
   "cell_type": "code",
   "execution_count": 83,
   "id": "44c12b98",
   "metadata": {},
   "outputs": [],
   "source": [
    "arr = np.array([5, 12, 7, 20, 25, 2])"
   ]
  },
  {
   "cell_type": "code",
   "execution_count": 85,
   "id": "05a76445",
   "metadata": {},
   "outputs": [
    {
     "data": {
      "text/plain": [
       "array([False,  True, False,  True,  True, False])"
      ]
     },
     "execution_count": 85,
     "metadata": {},
     "output_type": "execute_result"
    }
   ],
   "source": [
    "x = arr > 10\n",
    "x"
   ]
  },
  {
   "cell_type": "code",
   "execution_count": 86,
   "id": "dd70106c",
   "metadata": {},
   "outputs": [],
   "source": [
    "# Loop with Condition\n",
    "# 👉 Write a for loop to calculate the sum of squares of numbers from 1 to 5."
   ]
  },
  {
   "cell_type": "code",
   "execution_count": 88,
   "id": "72c1227a",
   "metadata": {},
   "outputs": [
    {
     "name": "stdout",
     "output_type": "stream",
     "text": [
      "1\n",
      "5\n",
      "14\n",
      "30\n",
      "55\n"
     ]
    }
   ],
   "source": [
    "x = range(1,6)\n",
    "total = 0\n",
    "\n",
    "for i in x:\n",
    "    y = i**2\n",
    "    total = total + y\n",
    "    print(total)"
   ]
  },
  {
   "cell_type": "code",
   "execution_count": 89,
   "id": "27d0db7e",
   "metadata": {},
   "outputs": [],
   "source": [
    "# Nested Loops\n",
    "# 👉 Print a multiplication table for numbers 1 through 3, using nested loops."
   ]
  },
  {
   "cell_type": "code",
   "execution_count": 93,
   "id": "7e65d4ba",
   "metadata": {},
   "outputs": [
    {
     "name": "stdout",
     "output_type": "stream",
     "text": [
      "1\t2\t3\t\n",
      "2\t4\t6\t\n",
      "3\t6\t9\t\n"
     ]
    }
   ],
   "source": [
    "for i in range(1,4):\n",
    "    for j in range(1,4):\n",
    "        print(i*j, end=\"\\t\")\n",
    "    print()"
   ]
  },
  {
   "cell_type": "code",
   "execution_count": 94,
   "id": "bd8b3fab",
   "metadata": {},
   "outputs": [],
   "source": [
    "# Custom Function\n",
    "# 👉 Write a function is_even(n) that:\n",
    "\n",
    "# Takes an integer input.\n",
    "\n",
    "# Returns True if even, False if odd.\n",
    "\n",
    "# Then use it in a loop to print all even numbers from 1 to 20."
   ]
  },
  {
   "cell_type": "code",
   "execution_count": 105,
   "id": "90b14ae3",
   "metadata": {},
   "outputs": [
    {
     "name": "stdout",
     "output_type": "stream",
     "text": [
      "2 is even\n",
      "4 is even\n",
      "6 is even\n",
      "8 is even\n",
      "10 is even\n",
      "12 is even\n",
      "14 is even\n",
      "16 is even\n",
      "18 is even\n",
      "20 is even\n"
     ]
    }
   ],
   "source": [
    "def is_even(n):\n",
    "    if n%2==0:\n",
    "        return True\n",
    "    else:\n",
    "        return False\n",
    "    \n",
    "for i in range(1,21):\n",
    "    if is_even(i):\n",
    "        print(i, \"is even\")"
   ]
  },
  {
   "cell_type": "code",
   "execution_count": 104,
   "id": "6d8c0bd2",
   "metadata": {},
   "outputs": [
    {
     "data": {
      "text/plain": [
       "False"
      ]
     },
     "execution_count": 104,
     "metadata": {},
     "output_type": "execute_result"
    }
   ],
   "source": [
    "is_even(3)"
   ]
  },
  {
   "cell_type": "code",
   "execution_count": null,
   "id": "111885e5",
   "metadata": {},
   "outputs": [],
   "source": []
  }
 ],
 "metadata": {
  "kernelspec": {
   "display_name": "Python 3 (ipykernel)",
   "language": "python",
   "name": "python3"
  },
  "language_info": {
   "codemirror_mode": {
    "name": "ipython",
    "version": 3
   },
   "file_extension": ".py",
   "mimetype": "text/x-python",
   "name": "python",
   "nbconvert_exporter": "python",
   "pygments_lexer": "ipython3",
   "version": "3.9.13"
  }
 },
 "nbformat": 4,
 "nbformat_minor": 5
}
